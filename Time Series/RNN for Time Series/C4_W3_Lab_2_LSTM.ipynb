{
  "cells": [
    {
      "cell_type": "markdown",
      "metadata": {
        "id": "XpKG_11pBcxt"
      },
      "source": [
        "<a href=\"https://colab.research.google.com/github/https-deeplearning-ai/tensorflow-1-public/blob/main/C4/W3/ungraded_labs/C4_W3_Lab_2_LSTM.ipynb\" target=\"_parent\"><img src=\"https://colab.research.google.com/assets/colab-badge.svg\" alt=\"Open In Colab\"/></a>"
      ]
    },
    {
      "cell_type": "markdown",
      "metadata": {
        "id": "sV_nvXSQGJPK"
      },
      "source": [
        "# Ungraded Lab: Using a multi-layer LSTM for forecasting\n",
        "\n",
        "In this lab, you will use the same RNN architecure in the first lab but will instead stack [LSTM](https://www.tensorflow.org/api_docs/python/tf/keras/layers/LSTM) layers instead of `SimpleRNN`."
      ]
    },
    {
      "cell_type": "markdown",
      "metadata": {
        "id": "3IMbAWETGOWD"
      },
      "source": [
        "## Imports"
      ]
    },
    {
      "cell_type": "code",
      "execution_count": 2,
      "metadata": {
        "id": "BOjujz601HcS"
      },
      "outputs": [],
      "source": [
        "import tensorflow as tf\n",
        "import numpy as np\n",
        "import matplotlib.pyplot as plt"
      ]
    },
    {
      "cell_type": "markdown",
      "metadata": {
        "id": "kD7RQQ0xGQVH"
      },
      "source": [
        "## Utilities"
      ]
    },
    {
      "cell_type": "code",
      "execution_count": 3,
      "metadata": {
        "id": "Zswl7jRtGzkk"
      },
      "outputs": [],
      "source": [
        "def plot_series(time, series, format=\"-\", start=0, end=None):\n",
        "    \"\"\"\n",
        "    Visualizes time series data\n",
        "\n",
        "    Args:\n",
        "      time (array of int) - contains the time steps\n",
        "      series (array of int) - contains the measurements for each time step\n",
        "      format - line style when plotting the graph\n",
        "      start - first time step to plot\n",
        "      end - last time step to plot\n",
        "    \"\"\"\n",
        "\n",
        "    # Setup dimensions of the graph figure\n",
        "    plt.figure(figsize=(10, 6))\n",
        "\n",
        "    if type(series) is tuple:\n",
        "\n",
        "      for series_num in series:\n",
        "        # Plot the time series data\n",
        "        plt.plot(time[start:end], series_num[start:end], format)\n",
        "\n",
        "    else:\n",
        "      # Plot the time series data\n",
        "      plt.plot(time[start:end], series[start:end], format)\n",
        "\n",
        "    # Label the x-axis\n",
        "    plt.xlabel(\"Time\")\n",
        "\n",
        "    # Label the y-axis\n",
        "    plt.ylabel(\"Value\")\n",
        "\n",
        "    # Overlay a grid on the graph\n",
        "    plt.grid(True)\n",
        "\n",
        "    # Draw the graph on screen\n",
        "    plt.show()\n",
        "\n",
        "def trend(time, slope=0):\n",
        "    \"\"\"\n",
        "    Generates synthetic data that follows a straight line given a slope value.\n",
        "\n",
        "    Args:\n",
        "      time (array of int) - contains the time steps\n",
        "      slope (float) - determines the direction and steepness of the line\n",
        "\n",
        "    Returns:\n",
        "      series (array of float) - measurements that follow a straight line\n",
        "    \"\"\"\n",
        "\n",
        "    # Compute the linear series given the slope\n",
        "    series = slope * time\n",
        "\n",
        "    return series\n",
        "\n",
        "def seasonal_pattern(season_time):\n",
        "    \"\"\"\n",
        "    Just an arbitrary pattern, you can change it if you wish\n",
        "\n",
        "    Args:\n",
        "      season_time (array of float) - contains the measurements per time step\n",
        "\n",
        "    Returns:\n",
        "      data_pattern (array of float) -  contains revised measurement values according\n",
        "                                  to the defined pattern\n",
        "    \"\"\"\n",
        "\n",
        "    # Generate the values using an arbitrary pattern\n",
        "    data_pattern = np.where(season_time < 0.4,\n",
        "                    np.cos(season_time * 2 * np.pi),\n",
        "                    1 / np.exp(3 * season_time))\n",
        "\n",
        "    return data_pattern\n",
        "\n",
        "def seasonality(time, period, amplitude=1, phase=0):\n",
        "    \"\"\"\n",
        "    Repeats the same pattern at each period\n",
        "\n",
        "    Args:\n",
        "      time (array of int) - contains the time steps\n",
        "      period (int) - number of time steps before the pattern repeats\n",
        "      amplitude (int) - peak measured value in a period\n",
        "      phase (int) - number of time steps to shift the measured values\n",
        "\n",
        "    Returns:\n",
        "      data_pattern (array of float) - seasonal data scaled by the defined amplitude\n",
        "    \"\"\"\n",
        "\n",
        "    # Define the measured values per period\n",
        "    season_time = ((time + phase) % period) / period\n",
        "\n",
        "    # Generates the seasonal data scaled by the defined amplitude\n",
        "    data_pattern = amplitude * seasonal_pattern(season_time)\n",
        "\n",
        "    return data_pattern\n",
        "\n",
        "def noise(time, noise_level=1, seed=None):\n",
        "    \"\"\"Generates a normally distributed noisy signal\n",
        "\n",
        "    Args:\n",
        "      time (array of int) - contains the time steps\n",
        "      noise_level (float) - scaling factor for the generated signal\n",
        "      seed (int) - number generator seed for repeatability\n",
        "\n",
        "    Returns:\n",
        "      noise (array of float) - the noisy signal\n",
        "    \"\"\"\n",
        "\n",
        "    # Initialize the random number generator\n",
        "    rnd = np.random.RandomState(seed)\n",
        "\n",
        "    # Generate a random number for each time step and scale by the noise level\n",
        "    noise = rnd.randn(len(time)) * noise_level\n",
        "\n",
        "    return noise"
      ]
    },
    {
      "cell_type": "markdown",
      "metadata": {
        "id": "yxNyeFWjGSdj"
      },
      "source": [
        "## Generate the Synthetic Data"
      ]
    },
    {
      "cell_type": "code",
      "execution_count": 4,
      "metadata": {
        "id": "KYEUfDbdpHPm",
        "colab": {
          "base_uri": "https://localhost:8080/",
          "height": 542
        },
        "outputId": "e38c7e11-cc33-4948-f9dd-a2eb8858a471"
      },
      "outputs": [
        {
          "output_type": "display_data",
          "data": {
            "text/plain": [
              "<Figure size 1000x600 with 1 Axes>"
            ],
            "image/png": "[encoded data removed]"
          },
          "metadata": {}
        }
      ],
      "source": [
        "# Parameters\n",
        "time = np.arange(4 * 365 + 1, dtype=\"float32\")\n",
        "baseline = 10\n",
        "amplitude = 40\n",
        "slope = 0.05\n",
        "noise_level = 5\n",
        "\n",
        "# Create the series\n",
        "series = baseline + trend(time, slope) + seasonality(time, period=365, amplitude=amplitude)\n",
        "\n",
        "# Update with noise\n",
        "series += noise(time, noise_level, seed=42)\n",
        "\n",
        "# Plot the results\n",
        "plot_series(time, series)"
      ]
    },
    {
      "cell_type": "markdown",
      "metadata": {
        "id": "MYKCvv-eGWRc"
      },
      "source": [
        "## Split the Dataset"
      ]
    },
    {
      "cell_type": "code",
      "execution_count": 5,
      "metadata": {
        "id": "hpp0slenpKVD"
      },
      "outputs": [],
      "source": [
        "# Define the split time\n",
        "split_time = 1000\n",
        "\n",
        "# Get the train set\n",
        "time_train = time[:split_time]\n",
        "x_train = series[:split_time]\n",
        "\n",
        "# Get the validation set\n",
        "time_valid = time[split_time:]\n",
        "x_valid = series[split_time:]"
      ]
    },
    {
      "cell_type": "markdown",
      "metadata": {
        "id": "cktHz9aOGYtV"
      },
      "source": [
        "## Prepare Features and Labels"
      ]
    },
    {
      "cell_type": "code",
      "execution_count": 6,
      "metadata": {
        "id": "G_j_2_Mqwn7-"
      },
      "outputs": [],
      "source": [
        "# Parameters\n",
        "window_size = 20\n",
        "batch_size = 32\n",
        "shuffle_buffer_size = 1000"
      ]
    },
    {
      "cell_type": "code",
      "execution_count": 7,
      "metadata": {
        "id": "4sTTIOCbyShY"
      },
      "outputs": [],
      "source": [
        "def windowed_dataset(series, window_size, batch_size, shuffle_buffer):\n",
        "    \"\"\"Generates dataset windows\n",
        "\n",
        "    Args:\n",
        "      series (array of float) - contains the values of the time series\n",
        "      window_size (int) - the number of time steps to include in the feature\n",
        "      batch_size (int) - the batch size\n",
        "      shuffle_buffer(int) - buffer size to use for the shuffle method\n",
        "\n",
        "    Returns:\n",
        "      dataset (TF Dataset) - TF Dataset containing time windows\n",
        "    \"\"\"\n",
        "\n",
        "    # Generate a TF Dataset from the series values\n",
        "    dataset = tf.data.Dataset.from_tensor_slices(series)\n",
        "\n",
        "    # Window the data but only take those with the specified size\n",
        "    dataset = dataset.window(window_size + 1, shift=1, drop_remainder=True)\n",
        "\n",
        "    # Flatten the windows by putting its elements in a single batch\n",
        "    dataset = dataset.flat_map(lambda window: window.batch(window_size + 1))\n",
        "\n",
        "    # Create tuples with features and labels\n",
        "    dataset = dataset.map(lambda window: (window[:-1], window[-1]))\n",
        "\n",
        "    # Shuffle the windows\n",
        "    dataset = dataset.shuffle(shuffle_buffer)\n",
        "\n",
        "    # Create batches of windows\n",
        "    dataset = dataset.batch(batch_size).prefetch(1)\n",
        "\n",
        "    return dataset"
      ]
    },
    {
      "cell_type": "code",
      "execution_count": 8,
      "metadata": {
        "id": "vGj5-InSwtQQ"
      },
      "outputs": [],
      "source": [
        "# Generate the dataset windows\n",
        "dataset = windowed_dataset(x_train, window_size, batch_size, shuffle_buffer_size)"
      ]
    },
    {
      "cell_type": "markdown",
      "metadata": {
        "id": "p9-Ke8ZaGcjd"
      },
      "source": [
        "## Build the Model\n",
        "\n",
        "As mentioned, you will swap `SimpleRNN` for `LSTM` in this lab. It is also set as bidirectional below but feel free to revise later and see what results you get. LSTMs are much more complex in their internal architecture than simpleRNNs. It implements a cell state that allows it to remember sequences better than simple implementations. This added complexity results in a bigger set of parameters to train and you'll see that when you print the model summary below."
      ]
    },
    {
      "cell_type": "code",
      "execution_count": 9,
      "metadata": {
        "id": "A1Hl39rklkLm",
        "colab": {
          "base_uri": "https://localhost:8080/"
        },
        "outputId": "ff03638c-7e1c-4ebf-86a0-8f80ecf41fa4"
      },
      "outputs": [
        {
          "output_type": "stream",
          "name": "stdout",
          "text": [
            "Model: \"sequential\"\n",
            "_________________________________________________________________\n",
            " Layer (type)                Output Shape              Param #   \n",
            "=================================================================\n",
            " lambda (Lambda)             (None, 20, 1)             0         \n",
            "                                                                 \n",
            " bidirectional (Bidirectiona  (None, 20, 64)           8704      \n",
            " l)                                                              \n",
            "                                                                 \n",
            " bidirectional_1 (Bidirectio  (None, 64)               24832     \n",
            " nal)                                                            \n",
            "                                                                 \n",
            " dense (Dense)               (None, 1)                 65        \n",
            "                                                                 \n",
            " lambda_1 (Lambda)           (None, 1)                 0         \n",
            "                                                                 \n",
            "=================================================================\n",
            "Total params: 33,601\n",
            "Trainable params: 33,601\n",
            "Non-trainable params: 0\n",
            "_________________________________________________________________\n"
          ]
        }
      ],
      "source": [
        "# Build the Model\n",
        "model_tune = tf.keras.models.Sequential([\n",
        "  tf.keras.layers.Lambda(lambda x: tf.expand_dims(x, axis=-1),\n",
        "                      input_shape=[window_size]),\n",
        "    tf.keras.layers.Bidirectional(tf.keras.layers.LSTM(32, return_sequences=True)),\n",
        "  tf.keras.layers.Bidirectional(tf.keras.layers.LSTM(32)),\n",
        "  tf.keras.layers.Dense(1),\n",
        "  tf.keras.layers.Lambda(lambda x: x * 100.0)\n",
        "])\n",
        "\n",
        "# Print the model summary\n",
        "model_tune.summary()"
      ]
    },
    {
      "cell_type": "markdown",
      "metadata": {
        "id": "FHaFblbwq0GV"
      },
      "source": [
        "## Tune the Learning Rate\n",
        "\n",
        "As usual, you will pick a learning rate by running the tuning code below."
      ]
    },
    {
      "cell_type": "code",
      "execution_count": 10,
      "metadata": {
        "id": "qE7al18qw48G",
        "colab": {
          "base_uri": "https://localhost:8080/"
        },
        "outputId": "462b6c2e-9298-4b18-81b6-ca8ce21fa319"
      },
      "outputs": [
        {
          "output_type": "stream",
          "name": "stdout",
          "text": [
            "Epoch 1/100\n",
            "31/31 [==============================] - 12s 19ms/step - loss: 45.1167 - lr: 1.0000e-08\n",
            "Epoch 2/100\n",
            "31/31 [==============================] - 0s 10ms/step - loss: 43.2745 - lr: 1.1220e-08\n",
            "Epoch 3/100\n",
            "31/31 [==============================] - 0s 10ms/step - loss: 40.9803 - lr: 1.2589e-08\n",
            "Epoch 4/100\n",
            "31/31 [==============================] - 0s 10ms/step - loss: 38.2683 - lr: 1.4125e-08\n",
            "Epoch 5/100\n",
            "31/31 [==============================] - 0s 9ms/step - loss: 35.0437 - lr: 1.5849e-08\n",
            "Epoch 6/100\n",
            "31/31 [==============================] - 0s 10ms/step - loss: 31.1517 - lr: 1.7783e-08\n",
            "Epoch 7/100\n",
            "31/31 [==============================] - 1s 13ms/step - loss: 26.6193 - lr: 1.9953e-08\n",
            "Epoch 8/100\n",
            "31/31 [==============================] - 1s 13ms/step - loss: 21.9101 - lr: 2.2387e-08\n",
            "Epoch 9/100\n",
            "31/31 [==============================] - 0s 9ms/step - loss: 17.5618 - lr: 2.5119e-08\n",
            "Epoch 10/100\n",
            "31/31 [==============================] - 0s 10ms/step - loss: 13.9182 - lr: 2.8184e-08\n",
            "Epoch 11/100\n",
            "31/31 [==============================] - 0s 10ms/step - loss: 11.4428 - lr: 3.1623e-08\n",
            "Epoch 12/100\n",
            "31/31 [==============================] - 0s 10ms/step - loss: 10.0899 - lr: 3.5481e-08\n",
            "Epoch 13/100\n",
            "31/31 [==============================] - 0s 10ms/step - loss: 9.4913 - lr: 3.9811e-08\n",
            "Epoch 14/100\n",
            "31/31 [==============================] - 0s 11ms/step - loss: 9.2703 - lr: 4.4668e-08\n",
            "Epoch 15/100\n",
            "31/31 [==============================] - 1s 14ms/step - loss: 9.1735 - lr: 5.0119e-08\n",
            "Epoch 16/100\n",
            "31/31 [==============================] - 1s 14ms/step - loss: 9.0839 - lr: 5.6234e-08\n",
            "Epoch 17/100\n",
            "31/31 [==============================] - 1s 11ms/step - loss: 9.0047 - lr: 6.3096e-08\n",
            "Epoch 18/100\n",
            "31/31 [==============================] - 0s 9ms/step - loss: 8.9197 - lr: 7.0795e-08\n",
            "Epoch 19/100\n",
            "31/31 [==============================] - 0s 10ms/step - loss: 8.8383 - lr: 7.9433e-08\n",
            "Epoch 20/100\n",
            "31/31 [==============================] - 0s 10ms/step - loss: 8.7580 - lr: 8.9125e-08\n",
            "Epoch 21/100\n",
            "31/31 [==============================] - 0s 10ms/step - loss: 8.6864 - lr: 1.0000e-07\n",
            "Epoch 22/100\n",
            "31/31 [==============================] - 0s 9ms/step - loss: 8.6097 - lr: 1.1220e-07\n",
            "Epoch 23/100\n",
            "31/31 [==============================] - 0s 10ms/step - loss: 8.5412 - lr: 1.2589e-07\n",
            "Epoch 24/100\n",
            "31/31 [==============================] - 0s 10ms/step - loss: 8.4737 - lr: 1.4125e-07\n",
            "Epoch 25/100\n",
            "31/31 [==============================] - 0s 10ms/step - loss: 8.4213 - lr: 1.5849e-07\n",
            "Epoch 26/100\n",
            "31/31 [==============================] - 0s 9ms/step - loss: 8.3571 - lr: 1.7783e-07\n",
            "Epoch 27/100\n",
            "31/31 [==============================] - 0s 12ms/step - loss: 8.3032 - lr: 1.9953e-07\n",
            "Epoch 28/100\n",
            "31/31 [==============================] - 1s 15ms/step - loss: 8.2617 - lr: 2.2387e-07\n",
            "Epoch 29/100\n",
            "31/31 [==============================] - 1s 14ms/step - loss: 8.2066 - lr: 2.5119e-07\n",
            "Epoch 30/100\n",
            "31/31 [==============================] - 0s 10ms/step - loss: 8.1679 - lr: 2.8184e-07\n",
            "Epoch 31/100\n",
            "31/31 [==============================] - 0s 10ms/step - loss: 8.1026 - lr: 3.1623e-07\n",
            "Epoch 32/100\n",
            "31/31 [==============================] - 0s 11ms/step - loss: 8.0481 - lr: 3.5481e-07\n",
            "Epoch 33/100\n",
            "31/31 [==============================] - 1s 11ms/step - loss: 8.0023 - lr: 3.9811e-07\n",
            "Epoch 34/100\n",
            "31/31 [==============================] - 1s 19ms/step - loss: 7.9106 - lr: 4.4668e-07\n",
            "Epoch 35/100\n",
            "31/31 [==============================] - 0s 9ms/step - loss: 7.8998 - lr: 5.0119e-07\n",
            "Epoch 36/100\n",
            "31/31 [==============================] - 0s 10ms/step - loss: 7.8177 - lr: 5.6234e-07\n",
            "Epoch 37/100\n",
            "31/31 [==============================] - 0s 9ms/step - loss: 7.7358 - lr: 6.3096e-07\n",
            "Epoch 38/100\n",
            "31/31 [==============================] - 0s 9ms/step - loss: 7.6709 - lr: 7.0795e-07\n",
            "Epoch 39/100\n",
            "31/31 [==============================] - 0s 9ms/step - loss: 7.5231 - lr: 7.9433e-07\n",
            "Epoch 40/100\n",
            "31/31 [==============================] - 0s 9ms/step - loss: 7.4417 - lr: 8.9125e-07\n",
            "Epoch 41/100\n",
            "31/31 [==============================] - 0s 9ms/step - loss: 7.3367 - lr: 1.0000e-06\n",
            "Epoch 42/100\n",
            "31/31 [==============================] - 0s 10ms/step - loss: 7.2240 - lr: 1.1220e-06\n",
            "Epoch 43/100\n",
            "31/31 [==============================] - 0s 10ms/step - loss: 7.0795 - lr: 1.2589e-06\n",
            "Epoch 44/100\n",
            "31/31 [==============================] - 0s 10ms/step - loss: 7.0971 - lr: 1.4125e-06\n",
            "Epoch 45/100\n",
            "31/31 [==============================] - 0s 10ms/step - loss: 6.9083 - lr: 1.5849e-06\n",
            "Epoch 46/100\n",
            "31/31 [==============================] - 0s 10ms/step - loss: 6.6994 - lr: 1.7783e-06\n",
            "Epoch 47/100\n",
            "31/31 [==============================] - 0s 10ms/step - loss: 6.6105 - lr: 1.9953e-06\n",
            "Epoch 48/100\n",
            "31/31 [==============================] - 1s 14ms/step - loss: 6.5794 - lr: 2.2387e-06\n",
            "Epoch 49/100\n",
            "31/31 [==============================] - 1s 15ms/step - loss: 6.3445 - lr: 2.5119e-06\n",
            "Epoch 50/100\n",
            "31/31 [==============================] - 0s 9ms/step - loss: 6.1727 - lr: 2.8184e-06\n",
            "Epoch 51/100\n",
            "31/31 [==============================] - 0s 9ms/step - loss: 6.1507 - lr: 3.1623e-06\n",
            "Epoch 52/100\n",
            "31/31 [==============================] - 0s 10ms/step - loss: 5.8692 - lr: 3.5481e-06\n",
            "Epoch 53/100\n",
            "31/31 [==============================] - 0s 10ms/step - loss: 5.7685 - lr: 3.9811e-06\n",
            "Epoch 54/100\n",
            "31/31 [==============================] - 0s 10ms/step - loss: 5.6091 - lr: 4.4668e-06\n",
            "Epoch 55/100\n",
            "31/31 [==============================] - 0s 9ms/step - loss: 5.7085 - lr: 5.0119e-06\n",
            "Epoch 56/100\n",
            "31/31 [==============================] - 0s 9ms/step - loss: 5.5516 - lr: 5.6234e-06\n",
            "Epoch 57/100\n",
            "31/31 [==============================] - 0s 9ms/step - loss: 5.2708 - lr: 6.3096e-06\n",
            "Epoch 58/100\n",
            "31/31 [==============================] - 0s 10ms/step - loss: 5.0854 - lr: 7.0795e-06\n",
            "Epoch 59/100\n",
            "31/31 [==============================] - 0s 9ms/step - loss: 5.0241 - lr: 7.9433e-06\n",
            "Epoch 60/100\n",
            "31/31 [==============================] - 0s 10ms/step - loss: 5.0039 - lr: 8.9125e-06\n",
            "Epoch 61/100\n",
            "31/31 [==============================] - 0s 9ms/step - loss: 4.8766 - lr: 1.0000e-05\n",
            "Epoch 62/100\n",
            "31/31 [==============================] - 0s 9ms/step - loss: 4.8425 - lr: 1.1220e-05\n",
            "Epoch 63/100\n",
            "31/31 [==============================] - 0s 9ms/step - loss: 5.6966 - lr: 1.2589e-05\n",
            "Epoch 64/100\n",
            "31/31 [==============================] - 0s 10ms/step - loss: 5.1345 - lr: 1.4125e-05\n",
            "Epoch 65/100\n",
            "31/31 [==============================] - 0s 9ms/step - loss: 5.0607 - lr: 1.5849e-05\n",
            "Epoch 66/100\n",
            "31/31 [==============================] - 0s 10ms/step - loss: 5.0859 - lr: 1.7783e-05\n",
            "Epoch 67/100\n",
            "31/31 [==============================] - 0s 9ms/step - loss: 5.3381 - lr: 1.9953e-05\n",
            "Epoch 68/100\n",
            "31/31 [==============================] - 0s 9ms/step - loss: 5.1899 - lr: 2.2387e-05\n",
            "Epoch 69/100\n",
            "31/31 [==============================] - 1s 14ms/step - loss: 5.7096 - lr: 2.5119e-05\n",
            "Epoch 70/100\n",
            "31/31 [==============================] - 1s 14ms/step - loss: 6.1491 - lr: 2.8184e-05\n",
            "Epoch 71/100\n",
            "31/31 [==============================] - 1s 13ms/step - loss: 5.1147 - lr: 3.1623e-05\n",
            "Epoch 72/100\n",
            "31/31 [==============================] - 1s 14ms/step - loss: 5.3950 - lr: 3.5481e-05\n",
            "Epoch 73/100\n",
            "31/31 [==============================] - 1s 10ms/step - loss: 6.3468 - lr: 3.9811e-05\n",
            "Epoch 74/100\n",
            "31/31 [==============================] - 0s 10ms/step - loss: 6.1786 - lr: 4.4668e-05\n",
            "Epoch 75/100\n",
            "31/31 [==============================] - 0s 10ms/step - loss: 5.1784 - lr: 5.0119e-05\n",
            "Epoch 76/100\n",
            "31/31 [==============================] - 0s 10ms/step - loss: 6.5498 - lr: 5.6234e-05\n",
            "Epoch 77/100\n",
            "31/31 [==============================] - 0s 10ms/step - loss: 5.3228 - lr: 6.3096e-05\n",
            "Epoch 78/100\n",
            "31/31 [==============================] - 0s 9ms/step - loss: 6.5094 - lr: 7.0795e-05\n",
            "Epoch 79/100\n",
            "31/31 [==============================] - 0s 10ms/step - loss: 6.9288 - lr: 7.9433e-05\n",
            "Epoch 80/100\n",
            "31/31 [==============================] - 0s 10ms/step - loss: 6.2977 - lr: 8.9125e-05\n",
            "Epoch 81/100\n",
            "31/31 [==============================] - 0s 10ms/step - loss: 8.3808 - lr: 1.0000e-04\n",
            "Epoch 82/100\n",
            "31/31 [==============================] - 0s 9ms/step - loss: 7.1267 - lr: 1.1220e-04\n",
            "Epoch 83/100\n",
            "31/31 [==============================] - 0s 10ms/step - loss: 6.8033 - lr: 1.2589e-04\n",
            "Epoch 84/100\n",
            "31/31 [==============================] - 0s 9ms/step - loss: 7.7128 - lr: 1.4125e-04\n",
            "Epoch 85/100\n",
            "31/31 [==============================] - 0s 9ms/step - loss: 6.6620 - lr: 1.5849e-04\n",
            "Epoch 86/100\n",
            "31/31 [==============================] - 0s 10ms/step - loss: 7.4857 - lr: 1.7783e-04\n",
            "Epoch 87/100\n",
            "31/31 [==============================] - 0s 10ms/step - loss: 7.3378 - lr: 1.9953e-04\n",
            "Epoch 88/100\n",
            "31/31 [==============================] - 0s 9ms/step - loss: 7.0699 - lr: 2.2387e-04\n",
            "Epoch 89/100\n",
            "31/31 [==============================] - 0s 10ms/step - loss: 8.2137 - lr: 2.5119e-04\n",
            "Epoch 90/100\n",
            "31/31 [==============================] - 0s 9ms/step - loss: 9.0804 - lr: 2.8184e-04\n",
            "Epoch 91/100\n",
            "31/31 [==============================] - 0s 10ms/step - loss: 6.9466 - lr: 3.1623e-04\n",
            "Epoch 92/100\n",
            "31/31 [==============================] - 0s 10ms/step - loss: 5.6779 - lr: 3.5481e-04\n",
            "Epoch 93/100\n",
            "31/31 [==============================] - 0s 9ms/step - loss: 10.3635 - lr: 3.9811e-04\n",
            "Epoch 94/100\n",
            "31/31 [==============================] - 1s 13ms/step - loss: 7.9294 - lr: 4.4668e-04\n",
            "Epoch 95/100\n",
            "31/31 [==============================] - 1s 14ms/step - loss: 9.0957 - lr: 5.0119e-04\n",
            "Epoch 96/100\n",
            "31/31 [==============================] - 0s 9ms/step - loss: 8.0135 - lr: 5.6234e-04\n",
            "Epoch 97/100\n",
            "31/31 [==============================] - 0s 9ms/step - loss: 9.2618 - lr: 6.3096e-04\n",
            "Epoch 98/100\n",
            "31/31 [==============================] - 0s 10ms/step - loss: 8.0383 - lr: 7.0795e-04\n",
            "Epoch 99/100\n",
            "31/31 [==============================] - 0s 10ms/step - loss: 9.7295 - lr: 7.9433e-04\n",
            "Epoch 100/100\n",
            "31/31 [==============================] - 0s 10ms/step - loss: 10.2750 - lr: 8.9125e-04\n"
          ]
        }
      ],
      "source": [
        "# Set the learning rate scheduler\n",
        "lr_schedule = tf.keras.callbacks.LearningRateScheduler(\n",
        "    lambda epoch: 1e-8 * 10**(epoch / 20))\n",
        "\n",
        "# Initialize the optimizer\n",
        "optimizer = tf.keras.optimizers.SGD(momentum=0.9)\n",
        "\n",
        "# Set the training parameters\n",
        "model_tune.compile(loss=tf.keras.losses.Huber(), optimizer=optimizer)\n",
        "\n",
        "# Train the model\n",
        "history = model_tune.fit(dataset, epochs=100, callbacks=[lr_schedule])"
      ]
    },
    {
      "cell_type": "code",
      "execution_count": 11,
      "metadata": {
        "id": "AkBsrsXMzoWR",
        "colab": {
          "base_uri": "https://localhost:8080/",
          "height": 559
        },
        "outputId": "3f38a61a-38cb-4e42-ce7f-f0a64a569f5d"
      },
      "outputs": [
        {
          "output_type": "execute_result",
          "data": {
            "text/plain": [
              "(1e-08, 0.001, 0.0, 30.0)"
            ]
          },
          "metadata": {},
          "execution_count": 11
        },
        {
          "output_type": "display_data",
          "data": {
            "text/plain": [
              "<Figure size 1000x600 with 1 Axes>"
            ],
            "image/png": "[encoded data removed]"
          },
          "metadata": {}
        }
      ],
      "source": [
        "# Define the learning rate array\n",
        "lrs = 1e-8 * (10 ** (np.arange(100) / 20))\n",
        "\n",
        "# Set the figure size\n",
        "plt.figure(figsize=(10, 6))\n",
        "\n",
        "# Set the grid\n",
        "plt.grid(True)\n",
        "\n",
        "# Plot the loss in log scale\n",
        "plt.semilogx(lrs, history.history[\"loss\"])\n",
        "\n",
        "# Increase the tickmarks size\n",
        "plt.tick_params('both', length=10, width=1, which='both')\n",
        "\n",
        "# Set the plot boundaries\n",
        "plt.axis([1e-8, 1e-3, 0, 30])"
      ]
    },
    {
      "cell_type": "markdown",
      "metadata": {
        "id": "i-lKNp4pq_w8"
      },
      "source": [
        "## Train the Model\n",
        "\n",
        "You can then proceed to train the model with your chosen learning rate.\n",
        "\n",
        "*Tip: When experimenting and you find yourself running different iterations of a model, you may want to use the [`clear_session()`](https://www.tensorflow.org/api_docs/python/tf/keras/backend/clear_session) method to declutter memory used by Keras. This is added in the first line below.*\n"
      ]
    },
    {
      "cell_type": "code",
      "execution_count": 12,
      "metadata": {
        "id": "4uh-97bpLZCA",
        "colab": {
          "base_uri": "https://localhost:8080/"
        },
        "outputId": "6d87e7cd-c1e4-4798-8b88-b37d2987d0c6"
      },
      "outputs": [
        {
          "output_type": "stream",
          "name": "stdout",
          "text": [
            "Epoch 1/100\n",
            "31/31 [==============================] - 6s 10ms/step - loss: 17.3341 - mae: 17.8284\n",
            "Epoch 2/100\n",
            "31/31 [==============================] - 0s 12ms/step - loss: 12.8608 - mae: 13.3507\n",
            "Epoch 3/100\n",
            "31/31 [==============================] - 1s 14ms/step - loss: 9.8105 - mae: 10.2984\n",
            "Epoch 4/100\n",
            "31/31 [==============================] - 1s 14ms/step - loss: 7.6323 - mae: 8.1164\n",
            "Epoch 5/100\n",
            "31/31 [==============================] - 0s 9ms/step - loss: 6.4915 - mae: 6.9690\n",
            "Epoch 6/100\n",
            "31/31 [==============================] - 0s 9ms/step - loss: 5.9157 - mae: 6.3953\n",
            "Epoch 7/100\n",
            "31/31 [==============================] - 0s 10ms/step - loss: 5.6798 - mae: 6.1586\n",
            "Epoch 8/100\n",
            "31/31 [==============================] - 0s 9ms/step - loss: 5.6099 - mae: 6.0860\n",
            "Epoch 9/100\n",
            "31/31 [==============================] - 0s 10ms/step - loss: 5.4836 - mae: 5.9597\n",
            "Epoch 10/100\n",
            "31/31 [==============================] - 0s 9ms/step - loss: 5.3304 - mae: 5.8096\n",
            "Epoch 11/100\n",
            "31/31 [==============================] - 0s 10ms/step - loss: 5.4742 - mae: 5.9526\n",
            "Epoch 12/100\n",
            "31/31 [==============================] - 0s 9ms/step - loss: 5.4090 - mae: 5.8909\n",
            "Epoch 13/100\n",
            "31/31 [==============================] - 0s 10ms/step - loss: 5.2988 - mae: 5.7802\n",
            "Epoch 14/100\n",
            "31/31 [==============================] - 0s 10ms/step - loss: 5.2467 - mae: 5.7249\n",
            "Epoch 15/100\n",
            "31/31 [==============================] - 0s 10ms/step - loss: 5.2654 - mae: 5.7477\n",
            "Epoch 16/100\n",
            "31/31 [==============================] - 0s 10ms/step - loss: 5.1346 - mae: 5.6165\n",
            "Epoch 17/100\n",
            "31/31 [==============================] - 0s 9ms/step - loss: 5.3271 - mae: 5.8088\n",
            "Epoch 18/100\n",
            "31/31 [==============================] - 0s 10ms/step - loss: 5.0213 - mae: 5.4998\n",
            "Epoch 19/100\n",
            "31/31 [==============================] - 0s 10ms/step - loss: 4.9603 - mae: 5.4388\n",
            "Epoch 20/100\n",
            "31/31 [==============================] - 0s 10ms/step - loss: 5.0194 - mae: 5.4986\n",
            "Epoch 21/100\n",
            "31/31 [==============================] - 0s 9ms/step - loss: 4.9575 - mae: 5.4349\n",
            "Epoch 22/100\n",
            "31/31 [==============================] - 0s 10ms/step - loss: 5.1785 - mae: 5.6592\n",
            "Epoch 23/100\n",
            "31/31 [==============================] - 0s 10ms/step - loss: 4.9787 - mae: 5.4569\n",
            "Epoch 24/100\n",
            "31/31 [==============================] - 0s 10ms/step - loss: 4.8914 - mae: 5.3692\n",
            "Epoch 25/100\n",
            "31/31 [==============================] - 0s 10ms/step - loss: 5.0445 - mae: 5.5248\n",
            "Epoch 26/100\n",
            "31/31 [==============================] - 0s 10ms/step - loss: 4.8227 - mae: 5.2999\n",
            "Epoch 27/100\n",
            "31/31 [==============================] - 1s 14ms/step - loss: 4.8210 - mae: 5.3008\n",
            "Epoch 28/100\n",
            "31/31 [==============================] - 1s 14ms/step - loss: 4.7439 - mae: 5.2170\n",
            "Epoch 29/100\n",
            "31/31 [==============================] - 1s 14ms/step - loss: 4.7791 - mae: 5.2597\n",
            "Epoch 30/100\n",
            "31/31 [==============================] - 0s 10ms/step - loss: 4.7827 - mae: 5.2591\n",
            "Epoch 31/100\n",
            "31/31 [==============================] - 0s 10ms/step - loss: 4.7802 - mae: 5.2586\n",
            "Epoch 32/100\n",
            "31/31 [==============================] - 0s 9ms/step - loss: 4.9929 - mae: 5.4681\n",
            "Epoch 33/100\n",
            "31/31 [==============================] - 0s 9ms/step - loss: 4.7610 - mae: 5.2422\n",
            "Epoch 34/100\n",
            "31/31 [==============================] - 0s 10ms/step - loss: 4.7071 - mae: 5.1828\n",
            "Epoch 35/100\n",
            "31/31 [==============================] - 0s 9ms/step - loss: 4.6300 - mae: 5.1056\n",
            "Epoch 36/100\n",
            "31/31 [==============================] - 0s 9ms/step - loss: 4.6283 - mae: 5.1035\n",
            "Epoch 37/100\n",
            "31/31 [==============================] - 0s 9ms/step - loss: 4.7066 - mae: 5.1833\n",
            "Epoch 38/100\n",
            "31/31 [==============================] - 0s 9ms/step - loss: 4.8099 - mae: 5.2859\n",
            "Epoch 39/100\n",
            "31/31 [==============================] - 0s 9ms/step - loss: 4.7417 - mae: 5.2155\n",
            "Epoch 40/100\n",
            "31/31 [==============================] - 0s 9ms/step - loss: 4.7572 - mae: 5.2324\n",
            "Epoch 41/100\n",
            "31/31 [==============================] - 0s 10ms/step - loss: 4.5618 - mae: 5.0383\n",
            "Epoch 42/100\n",
            "31/31 [==============================] - 0s 9ms/step - loss: 4.6038 - mae: 5.0819\n",
            "Epoch 43/100\n",
            "31/31 [==============================] - 0s 10ms/step - loss: 4.5729 - mae: 5.0457\n",
            "Epoch 44/100\n",
            "31/31 [==============================] - 0s 9ms/step - loss: 4.7041 - mae: 5.1836\n",
            "Epoch 45/100\n",
            "31/31 [==============================] - 0s 10ms/step - loss: 4.7009 - mae: 5.1783\n",
            "Epoch 46/100\n",
            "31/31 [==============================] - 0s 10ms/step - loss: 4.6171 - mae: 5.0925\n",
            "Epoch 47/100\n",
            "31/31 [==============================] - 0s 9ms/step - loss: 4.5789 - mae: 5.0569\n",
            "Epoch 48/100\n",
            "31/31 [==============================] - 0s 10ms/step - loss: 4.5600 - mae: 5.0358\n",
            "Epoch 49/100\n",
            "31/31 [==============================] - 0s 9ms/step - loss: 4.7575 - mae: 5.2345\n",
            "Epoch 50/100\n",
            "31/31 [==============================] - 0s 9ms/step - loss: 4.7031 - mae: 5.1797\n",
            "Epoch 51/100\n",
            "31/31 [==============================] - 0s 9ms/step - loss: 4.5184 - mae: 4.9959\n",
            "Epoch 52/100\n",
            "31/31 [==============================] - 1s 14ms/step - loss: 4.6115 - mae: 5.0889\n",
            "Epoch 53/100\n",
            "31/31 [==============================] - 1s 14ms/step - loss: 4.6397 - mae: 5.1204\n",
            "Epoch 54/100\n",
            "31/31 [==============================] - 1s 14ms/step - loss: 4.5756 - mae: 5.0510\n",
            "Epoch 55/100\n",
            "31/31 [==============================] - 1s 15ms/step - loss: 4.6196 - mae: 5.0929\n",
            "Epoch 56/100\n",
            "31/31 [==============================] - 1s 10ms/step - loss: 4.5602 - mae: 5.0337\n",
            "Epoch 57/100\n",
            "31/31 [==============================] - 0s 10ms/step - loss: 4.6030 - mae: 5.0827\n",
            "Epoch 58/100\n",
            "31/31 [==============================] - 0s 10ms/step - loss: 4.7185 - mae: 5.1962\n",
            "Epoch 59/100\n",
            "31/31 [==============================] - 0s 9ms/step - loss: 4.5548 - mae: 5.0319\n",
            "Epoch 60/100\n",
            "31/31 [==============================] - 0s 10ms/step - loss: 4.6470 - mae: 5.1242\n",
            "Epoch 61/100\n",
            "31/31 [==============================] - 0s 10ms/step - loss: 4.4999 - mae: 4.9782\n",
            "Epoch 62/100\n",
            "31/31 [==============================] - 0s 9ms/step - loss: 4.4555 - mae: 4.9363\n",
            "Epoch 63/100\n",
            "31/31 [==============================] - 0s 10ms/step - loss: 4.5030 - mae: 4.9811\n",
            "Epoch 64/100\n",
            "31/31 [==============================] - 0s 10ms/step - loss: 4.4677 - mae: 4.9431\n",
            "Epoch 65/100\n",
            "31/31 [==============================] - 0s 10ms/step - loss: 4.5345 - mae: 5.0092\n",
            "Epoch 66/100\n",
            "31/31 [==============================] - 0s 10ms/step - loss: 4.6026 - mae: 5.0814\n",
            "Epoch 67/100\n",
            "31/31 [==============================] - 0s 10ms/step - loss: 4.5444 - mae: 5.0214\n",
            "Epoch 68/100\n",
            "31/31 [==============================] - 0s 9ms/step - loss: 4.6224 - mae: 5.0959\n",
            "Epoch 69/100\n",
            "31/31 [==============================] - 0s 10ms/step - loss: 4.7564 - mae: 5.2304\n",
            "Epoch 70/100\n",
            "31/31 [==============================] - 0s 10ms/step - loss: 4.4646 - mae: 4.9389\n",
            "Epoch 71/100\n",
            "31/31 [==============================] - 0s 10ms/step - loss: 4.5094 - mae: 4.9846\n",
            "Epoch 72/100\n",
            "31/31 [==============================] - 0s 10ms/step - loss: 4.5151 - mae: 4.9916\n",
            "Epoch 73/100\n",
            "31/31 [==============================] - 0s 11ms/step - loss: 4.5635 - mae: 5.0421\n",
            "Epoch 74/100\n",
            "31/31 [==============================] - 0s 10ms/step - loss: 4.5825 - mae: 5.0610\n",
            "Epoch 75/100\n",
            "31/31 [==============================] - 0s 10ms/step - loss: 4.5006 - mae: 4.9763\n",
            "Epoch 76/100\n",
            "31/31 [==============================] - 0s 10ms/step - loss: 4.5506 - mae: 5.0294\n",
            "Epoch 77/100\n",
            "31/31 [==============================] - 0s 13ms/step - loss: 4.4875 - mae: 4.9658\n",
            "Epoch 78/100\n",
            "31/31 [==============================] - 1s 14ms/step - loss: 4.5584 - mae: 5.0366\n",
            "Epoch 79/100\n",
            "31/31 [==============================] - 1s 12ms/step - loss: 4.7073 - mae: 5.1783\n",
            "Epoch 80/100\n",
            "31/31 [==============================] - 0s 10ms/step - loss: 4.5096 - mae: 4.9880\n",
            "Epoch 81/100\n",
            "31/31 [==============================] - 0s 10ms/step - loss: 4.4464 - mae: 4.9236\n",
            "Epoch 82/100\n",
            "31/31 [==============================] - 0s 10ms/step - loss: 4.5349 - mae: 5.0102\n",
            "Epoch 83/100\n",
            "31/31 [==============================] - 0s 11ms/step - loss: 4.7156 - mae: 5.1962\n",
            "Epoch 84/100\n",
            "31/31 [==============================] - 0s 10ms/step - loss: 4.5796 - mae: 5.0539\n",
            "Epoch 85/100\n",
            "31/31 [==============================] - 0s 10ms/step - loss: 4.4796 - mae: 4.9581\n",
            "Epoch 86/100\n",
            "31/31 [==============================] - 0s 10ms/step - loss: 4.6035 - mae: 5.0820\n",
            "Epoch 87/100\n",
            "31/31 [==============================] - 0s 10ms/step - loss: 4.4690 - mae: 4.9464\n",
            "Epoch 88/100\n",
            "31/31 [==============================] - 0s 10ms/step - loss: 4.4180 - mae: 4.8951\n",
            "Epoch 89/100\n",
            "31/31 [==============================] - 0s 9ms/step - loss: 4.4606 - mae: 4.9323\n",
            "Epoch 90/100\n",
            "31/31 [==============================] - 0s 10ms/step - loss: 4.4226 - mae: 4.8990\n",
            "Epoch 91/100\n",
            "31/31 [==============================] - 0s 10ms/step - loss: 4.4825 - mae: 4.9601\n",
            "Epoch 92/100\n",
            "31/31 [==============================] - 0s 10ms/step - loss: 4.5510 - mae: 5.0267\n",
            "Epoch 93/100\n",
            "31/31 [==============================] - 0s 10ms/step - loss: 4.7113 - mae: 5.1890\n",
            "Epoch 94/100\n",
            "31/31 [==============================] - 0s 10ms/step - loss: 4.5191 - mae: 4.9969\n",
            "Epoch 95/100\n",
            "31/31 [==============================] - 0s 10ms/step - loss: 4.4678 - mae: 4.9462\n",
            "Epoch 96/100\n",
            "31/31 [==============================] - 0s 10ms/step - loss: 4.5362 - mae: 5.0147\n",
            "Epoch 97/100\n",
            "31/31 [==============================] - 0s 10ms/step - loss: 4.4905 - mae: 4.9674\n",
            "Epoch 98/100\n",
            "31/31 [==============================] - 0s 10ms/step - loss: 4.6279 - mae: 5.1035\n",
            "Epoch 99/100\n",
            "31/31 [==============================] - 0s 10ms/step - loss: 4.4160 - mae: 4.8936\n",
            "Epoch 100/100\n",
            "31/31 [==============================] - 0s 10ms/step - loss: 4.4453 - mae: 4.9199\n"
          ]
        }
      ],
      "source": [
        "# Reset states generated by Keras\n",
        "tf.keras.backend.clear_session()\n",
        "\n",
        "# Build the model\n",
        "model = tf.keras.models.Sequential([\n",
        "  tf.keras.layers.Lambda(lambda x: tf.expand_dims(x, axis=-1),\n",
        "                      input_shape=[None]),\n",
        "   tf.keras.layers.Bidirectional(tf.keras.layers.LSTM(32, return_sequences=True)),\n",
        "  tf.keras.layers.Bidirectional(tf.keras.layers.LSTM(32)),\n",
        "  tf.keras.layers.Dense(1),\n",
        "  tf.keras.layers.Lambda(lambda x: x * 100.0)\n",
        "])\n",
        "\n",
        "# Set the learning rate\n",
        "learning_rate = 4e-6\n",
        "\n",
        "# Set the optimizer\n",
        "optimizer = tf.keras.optimizers.SGD(learning_rate=learning_rate, momentum=0.9)\n",
        "\n",
        "# Set the training parameters\n",
        "model.compile(loss=tf.keras.losses.Huber(),\n",
        "              optimizer=optimizer,\n",
        "              metrics=[\"mae\"])\n",
        "\n",
        "# Train the model\n",
        "history = model.fit(dataset,epochs=100)"
      ]
    },
    {
      "cell_type": "markdown",
      "metadata": {
        "id": "RjP4kbGiI7cw"
      },
      "source": [
        "## Model Prediction\n",
        "\n",
        "You will then generate batches of windows to generate predictions that align with the validation set."
      ]
    },
    {
      "cell_type": "code",
      "execution_count": 13,
      "metadata": {
        "id": "QO8cfKwKBBG6"
      },
      "outputs": [],
      "source": [
        "def model_forecast(model, series, window_size, batch_size):\n",
        "    \"\"\"Uses an input model to generate predictions on data windows\n",
        "\n",
        "    Args:\n",
        "      model (TF Keras Model) - model that accepts data windows\n",
        "      series (array of float) - contains the values of the time series\n",
        "      window_size (int) - the number of time steps to include in the window\n",
        "      batch_size (int) - the batch size\n",
        "\n",
        "    Returns:\n",
        "      forecast (numpy array) - array containing predictions\n",
        "    \"\"\"\n",
        "\n",
        "    # Generate a TF Dataset from the series values\n",
        "    dataset = tf.data.Dataset.from_tensor_slices(series)\n",
        "\n",
        "    # Window the data but only take those with the specified size\n",
        "    dataset = dataset.window(window_size, shift=1, drop_remainder=True)\n",
        "\n",
        "    # Flatten the windows by putting its elements in a single batch\n",
        "    dataset = dataset.flat_map(lambda w: w.batch(window_size))\n",
        "\n",
        "    # Create batches of windows\n",
        "    dataset = dataset.batch(batch_size).prefetch(1)\n",
        "\n",
        "    # Get predictions on the entire dataset\n",
        "    forecast = model.predict(dataset)\n",
        "\n",
        "    return forecast"
      ]
    },
    {
      "cell_type": "code",
      "execution_count": 14,
      "metadata": {
        "id": "_plB3UseBD8o",
        "colab": {
          "base_uri": "https://localhost:8080/",
          "height": 560
        },
        "outputId": "68c22162-3690-4ff8-8830-512917a100eb"
      },
      "outputs": [
        {
          "output_type": "stream",
          "name": "stdout",
          "text": [
            "15/15 [==============================] - 1s 8ms/step\n"
          ]
        },
        {
          "output_type": "display_data",
          "data": {
            "text/plain": [
              "<Figure size 1000x600 with 1 Axes>"
            ],
            "image/png": "[encoded data removed]"
          },
          "metadata": {}
        }
      ],
      "source": [
        "# Reduce the original series\n",
        "forecast_series = series[split_time-window_size:-1]\n",
        "\n",
        "# Use helper function to generate predictions\n",
        "forecast = model_forecast(model, forecast_series, window_size, batch_size)\n",
        "\n",
        "# Drop single dimensional axis\n",
        "results = forecast.squeeze()\n",
        "\n",
        "# Plot the results\n",
        "plot_series(time_valid, (x_valid, results))"
      ]
    },
    {
      "cell_type": "markdown",
      "metadata": {
        "id": "Nn8iSQkZtaRC"
      },
      "source": [
        "You can then generate the metrics to evaluate the model's performance."
      ]
    },
    {
      "cell_type": "code",
      "execution_count": 15,
      "metadata": {
        "id": "-IKhueZaBGID",
        "colab": {
          "base_uri": "https://localhost:8080/"
        },
        "outputId": "d4cba271-f73d-47ce-a5c4-7cf55fc0d98a"
      },
      "outputs": [
        {
          "output_type": "stream",
          "name": "stdout",
          "text": [
            "62.141846\n",
            "5.725675\n"
          ]
        }
      ],
      "source": [
        "# Compute the MSE and MAE\n",
        "print(tf.keras.metrics.mean_squared_error(x_valid, results).numpy())\n",
        "print(tf.keras.metrics.mean_absolute_error(x_valid, results).numpy())"
      ]
    },
    {
      "cell_type": "markdown",
      "metadata": {
        "id": "bzPIqeMWvbPy"
      },
      "source": [
        "## Wrap Up\n",
        "\n",
        "This concludes this short exercise on using LSTMs for time series forecasting. Next week, you will build upon this and add convolutions. Then, you will start to move away from synthetic data and use real-world datasets. See you there!"
      ]
    },
    {
      "cell_type": "markdown",
      "metadata": {
        "id": "U5PqTePGHeMH"
      },
      "source": [
        "## Optional: Including a Validation Set while Training\n",
        "\n",
        "Back in the first course of this specialization, you saw how you can also monitor the performance of your model against a validation set while training. You can also do that for this lab.\n",
        "\n",
        "First, you need to generate a `val_set` which are data windows and labels that your model can accept. You can simply reuse the `windowed_dataset` function for that and you can pass in the `x_valid` points to generate the windows."
      ]
    },
    {
      "cell_type": "code",
      "execution_count": 16,
      "metadata": {
        "id": "kvFVwL3PC4iX"
      },
      "outputs": [],
      "source": [
        "# Generate data windows of the validation set\n",
        "val_set = windowed_dataset(x_valid, window_size, batch_size, shuffle_buffer_size)"
      ]
    },
    {
      "cell_type": "markdown",
      "metadata": {
        "id": "p68j6XxEvP9K"
      },
      "source": [
        "You can then do the same training as before but pass in the `val_set` to the `validation_data` parameter of the `fit()` method."
      ]
    },
    {
      "cell_type": "code",
      "execution_count": 17,
      "metadata": {
        "id": "wujKz6tXDSn0",
        "colab": {
          "base_uri": "https://localhost:8080/"
        },
        "outputId": "345d7564-9e33-4a14-c838-725854606603"
      },
      "outputs": [
        {
          "output_type": "stream",
          "name": "stdout",
          "text": [
            "Epoch 1/100\n",
            "31/31 [==============================] - 7s 58ms/step - loss: 29.1597 - mae: 29.6558 - val_loss: 22.1186 - val_mae: 22.6162\n",
            "Epoch 2/100\n",
            "31/31 [==============================] - 1s 24ms/step - loss: 13.3369 - mae: 13.8255 - val_loss: 27.6281 - val_mae: 28.1277\n",
            "Epoch 3/100\n",
            "31/31 [==============================] - 1s 16ms/step - loss: 8.8571 - mae: 9.3407 - val_loss: 18.8125 - val_mae: 19.3100\n",
            "Epoch 4/100\n",
            "31/31 [==============================] - 1s 14ms/step - loss: 6.8560 - mae: 7.3357 - val_loss: 11.4721 - val_mae: 11.9632\n",
            "Epoch 5/100\n",
            "31/31 [==============================] - 1s 14ms/step - loss: 6.5160 - mae: 6.9951 - val_loss: 10.7521 - val_mae: 11.2443\n",
            "Epoch 6/100\n",
            "31/31 [==============================] - 1s 15ms/step - loss: 6.2153 - mae: 6.6953 - val_loss: 9.9895 - val_mae: 10.4788\n",
            "Epoch 7/100\n",
            "31/31 [==============================] - 1s 21ms/step - loss: 6.0104 - mae: 6.4900 - val_loss: 8.8379 - val_mae: 9.3229\n",
            "Epoch 8/100\n",
            "31/31 [==============================] - 1s 24ms/step - loss: 5.7922 - mae: 6.2687 - val_loss: 8.5300 - val_mae: 9.0138\n",
            "Epoch 9/100\n",
            "31/31 [==============================] - 1s 14ms/step - loss: 5.9064 - mae: 6.3841 - val_loss: 8.1657 - val_mae: 8.6523\n",
            "Epoch 10/100\n",
            "31/31 [==============================] - 1s 13ms/step - loss: 5.6606 - mae: 6.1371 - val_loss: 8.7814 - val_mae: 9.2652\n",
            "Epoch 11/100\n",
            "31/31 [==============================] - 1s 13ms/step - loss: 5.5024 - mae: 5.9803 - val_loss: 7.3618 - val_mae: 7.8434\n",
            "Epoch 12/100\n",
            "31/31 [==============================] - 1s 13ms/step - loss: 5.4607 - mae: 5.9395 - val_loss: 8.0953 - val_mae: 8.5799\n",
            "Epoch 13/100\n",
            "31/31 [==============================] - 1s 14ms/step - loss: 5.4453 - mae: 5.9247 - val_loss: 7.6249 - val_mae: 8.1132\n",
            "Epoch 14/100\n",
            "31/31 [==============================] - 1s 16ms/step - loss: 5.4293 - mae: 5.9100 - val_loss: 8.1078 - val_mae: 8.5953\n",
            "Epoch 15/100\n",
            "31/31 [==============================] - 1s 15ms/step - loss: 5.3305 - mae: 5.8089 - val_loss: 7.0037 - val_mae: 7.4879\n",
            "Epoch 16/100\n",
            "31/31 [==============================] - 1s 15ms/step - loss: 5.3067 - mae: 5.7847 - val_loss: 7.4422 - val_mae: 7.9249\n",
            "Epoch 17/100\n",
            "31/31 [==============================] - 1s 13ms/step - loss: 5.2348 - mae: 5.7164 - val_loss: 8.5973 - val_mae: 9.0849\n",
            "Epoch 18/100\n",
            "31/31 [==============================] - 1s 14ms/step - loss: 5.2328 - mae: 5.7118 - val_loss: 6.9012 - val_mae: 7.3869\n",
            "Epoch 19/100\n",
            "31/31 [==============================] - 1s 24ms/step - loss: 5.1800 - mae: 5.6621 - val_loss: 7.0528 - val_mae: 7.5346\n",
            "Epoch 20/100\n",
            "31/31 [==============================] - 1s 25ms/step - loss: 5.1658 - mae: 5.6477 - val_loss: 7.8149 - val_mae: 8.3036\n",
            "Epoch 21/100\n",
            "31/31 [==============================] - 1s 14ms/step - loss: 5.2586 - mae: 5.7385 - val_loss: 8.2321 - val_mae: 8.7205\n",
            "Epoch 22/100\n",
            "31/31 [==============================] - 1s 14ms/step - loss: 5.1029 - mae: 5.5796 - val_loss: 6.6959 - val_mae: 7.1776\n",
            "Epoch 23/100\n",
            "31/31 [==============================] - 1s 13ms/step - loss: 5.0990 - mae: 5.5777 - val_loss: 6.6201 - val_mae: 7.1032\n",
            "Epoch 24/100\n",
            "31/31 [==============================] - 1s 13ms/step - loss: 5.1356 - mae: 5.6091 - val_loss: 7.0297 - val_mae: 7.5112\n",
            "Epoch 25/100\n",
            "31/31 [==============================] - 1s 14ms/step - loss: 5.0239 - mae: 5.5010 - val_loss: 6.7616 - val_mae: 7.2425\n",
            "Epoch 26/100\n",
            "31/31 [==============================] - 1s 13ms/step - loss: 4.9801 - mae: 5.4623 - val_loss: 7.1832 - val_mae: 7.6670\n",
            "Epoch 27/100\n",
            "31/31 [==============================] - 1s 14ms/step - loss: 4.9919 - mae: 5.4702 - val_loss: 5.9444 - val_mae: 6.4258\n",
            "Epoch 28/100\n",
            "31/31 [==============================] - 1s 14ms/step - loss: 5.0304 - mae: 5.5092 - val_loss: 6.0764 - val_mae: 6.5630\n",
            "Epoch 29/100\n",
            "31/31 [==============================] - 1s 14ms/step - loss: 4.8982 - mae: 5.3754 - val_loss: 6.2897 - val_mae: 6.7681\n",
            "Epoch 30/100\n",
            "31/31 [==============================] - 1s 15ms/step - loss: 4.9439 - mae: 5.4180 - val_loss: 9.0923 - val_mae: 9.5872\n",
            "Epoch 31/100\n",
            "31/31 [==============================] - 1s 13ms/step - loss: 4.9445 - mae: 5.4241 - val_loss: 5.8220 - val_mae: 6.2996\n",
            "Epoch 32/100\n",
            "31/31 [==============================] - 1s 14ms/step - loss: 4.8324 - mae: 5.3118 - val_loss: 6.3384 - val_mae: 6.8178\n",
            "Epoch 33/100\n",
            "31/31 [==============================] - 1s 15ms/step - loss: 4.7868 - mae: 5.2643 - val_loss: 5.6089 - val_mae: 6.0856\n",
            "Epoch 34/100\n",
            "31/31 [==============================] - 1s 14ms/step - loss: 4.7724 - mae: 5.2521 - val_loss: 6.0780 - val_mae: 6.5586\n",
            "Epoch 35/100\n",
            "31/31 [==============================] - 1s 13ms/step - loss: 4.8695 - mae: 5.3458 - val_loss: 6.0355 - val_mae: 6.5160\n",
            "Epoch 36/100\n",
            "31/31 [==============================] - 1s 14ms/step - loss: 4.7329 - mae: 5.2072 - val_loss: 5.6824 - val_mae: 6.1608\n",
            "Epoch 37/100\n",
            "31/31 [==============================] - 1s 13ms/step - loss: 4.7281 - mae: 5.2056 - val_loss: 5.9056 - val_mae: 6.3848\n",
            "Epoch 38/100\n",
            "31/31 [==============================] - 1s 24ms/step - loss: 4.6762 - mae: 5.1524 - val_loss: 5.4799 - val_mae: 5.9541\n",
            "Epoch 39/100\n",
            "31/31 [==============================] - 1s 25ms/step - loss: 4.6995 - mae: 5.1758 - val_loss: 6.2665 - val_mae: 6.7455\n",
            "Epoch 40/100\n",
            "31/31 [==============================] - 1s 13ms/step - loss: 4.7138 - mae: 5.1922 - val_loss: 5.6354 - val_mae: 6.1130\n",
            "Epoch 41/100\n",
            "31/31 [==============================] - 1s 14ms/step - loss: 4.6649 - mae: 5.1394 - val_loss: 5.8173 - val_mae: 6.2984\n",
            "Epoch 42/100\n",
            "31/31 [==============================] - 1s 15ms/step - loss: 4.6341 - mae: 5.1127 - val_loss: 5.9019 - val_mae: 6.3825\n",
            "Epoch 43/100\n",
            "31/31 [==============================] - 1s 14ms/step - loss: 4.6678 - mae: 5.1439 - val_loss: 7.0198 - val_mae: 7.5028\n",
            "Epoch 44/100\n",
            "31/31 [==============================] - 1s 14ms/step - loss: 4.6058 - mae: 5.0845 - val_loss: 5.6909 - val_mae: 6.1745\n",
            "Epoch 45/100\n",
            "31/31 [==============================] - 1s 13ms/step - loss: 4.5901 - mae: 5.0686 - val_loss: 6.3342 - val_mae: 6.8142\n",
            "Epoch 46/100\n",
            "31/31 [==============================] - 1s 13ms/step - loss: 4.6589 - mae: 5.1362 - val_loss: 7.9576 - val_mae: 8.4427\n",
            "Epoch 47/100\n",
            "31/31 [==============================] - 1s 13ms/step - loss: 4.6731 - mae: 5.1524 - val_loss: 5.6239 - val_mae: 6.1077\n",
            "Epoch 48/100\n",
            "31/31 [==============================] - 1s 13ms/step - loss: 4.7761 - mae: 5.2604 - val_loss: 7.6298 - val_mae: 8.1173\n",
            "Epoch 49/100\n",
            "31/31 [==============================] - 1s 13ms/step - loss: 4.5908 - mae: 5.0716 - val_loss: 6.3697 - val_mae: 6.8506\n",
            "Epoch 50/100\n",
            "31/31 [==============================] - 1s 15ms/step - loss: 4.5869 - mae: 5.0635 - val_loss: 5.4826 - val_mae: 5.9604\n",
            "Epoch 51/100\n",
            "31/31 [==============================] - 1s 14ms/step - loss: 4.6199 - mae: 5.0975 - val_loss: 5.8325 - val_mae: 6.3143\n",
            "Epoch 52/100\n",
            "31/31 [==============================] - 1s 13ms/step - loss: 4.5874 - mae: 5.0642 - val_loss: 6.1003 - val_mae: 6.5789\n",
            "Epoch 53/100\n",
            "31/31 [==============================] - 1s 13ms/step - loss: 4.6168 - mae: 5.0923 - val_loss: 5.8892 - val_mae: 6.3704\n",
            "Epoch 54/100\n",
            "31/31 [==============================] - 1s 15ms/step - loss: 4.6615 - mae: 5.1402 - val_loss: 5.6083 - val_mae: 6.0866\n",
            "Epoch 55/100\n",
            "31/31 [==============================] - 1s 14ms/step - loss: 4.6180 - mae: 5.0942 - val_loss: 5.7133 - val_mae: 6.1969\n",
            "Epoch 56/100\n",
            "31/31 [==============================] - 1s 15ms/step - loss: 4.5406 - mae: 5.0204 - val_loss: 6.5758 - val_mae: 7.0567\n",
            "Epoch 57/100\n",
            "31/31 [==============================] - 1s 15ms/step - loss: 4.5598 - mae: 5.0367 - val_loss: 5.7500 - val_mae: 6.2323\n",
            "Epoch 58/100\n",
            "31/31 [==============================] - 1s 20ms/step - loss: 4.5607 - mae: 5.0340 - val_loss: 5.3216 - val_mae: 5.8050\n",
            "Epoch 59/100\n",
            "31/31 [==============================] - 1s 24ms/step - loss: 4.5221 - mae: 5.0002 - val_loss: 5.7041 - val_mae: 6.1895\n",
            "Epoch 60/100\n",
            "31/31 [==============================] - 1s 13ms/step - loss: 4.5589 - mae: 5.0380 - val_loss: 5.4571 - val_mae: 5.9390\n",
            "Epoch 61/100\n",
            "31/31 [==============================] - 1s 14ms/step - loss: 4.5871 - mae: 5.0619 - val_loss: 6.9505 - val_mae: 7.4337\n",
            "Epoch 62/100\n",
            "31/31 [==============================] - 1s 13ms/step - loss: 4.5782 - mae: 5.0567 - val_loss: 6.8499 - val_mae: 7.3320\n",
            "Epoch 63/100\n",
            "31/31 [==============================] - 1s 14ms/step - loss: 4.6318 - mae: 5.1112 - val_loss: 6.5301 - val_mae: 7.0122\n",
            "Epoch 64/100\n",
            "31/31 [==============================] - 1s 13ms/step - loss: 4.5855 - mae: 5.0667 - val_loss: 5.4602 - val_mae: 5.9457\n",
            "Epoch 65/100\n",
            "31/31 [==============================] - 1s 13ms/step - loss: 4.5325 - mae: 5.0095 - val_loss: 6.1495 - val_mae: 6.6289\n",
            "Epoch 66/100\n",
            "31/31 [==============================] - 1s 14ms/step - loss: 4.5891 - mae: 5.0678 - val_loss: 5.7620 - val_mae: 6.2452\n",
            "Epoch 67/100\n",
            "31/31 [==============================] - 1s 14ms/step - loss: 4.5676 - mae: 5.0476 - val_loss: 5.8677 - val_mae: 6.3489\n",
            "Epoch 68/100\n",
            "31/31 [==============================] - 1s 15ms/step - loss: 4.6645 - mae: 5.1470 - val_loss: 5.2561 - val_mae: 5.7393\n",
            "Epoch 69/100\n",
            "31/31 [==============================] - 1s 14ms/step - loss: 4.5085 - mae: 4.9897 - val_loss: 5.6334 - val_mae: 6.1177\n",
            "Epoch 70/100\n",
            "31/31 [==============================] - 1s 14ms/step - loss: 4.6477 - mae: 5.1218 - val_loss: 7.8777 - val_mae: 8.3670\n",
            "Epoch 71/100\n",
            "31/31 [==============================] - 1s 14ms/step - loss: 4.6285 - mae: 5.1072 - val_loss: 5.5481 - val_mae: 6.0286\n",
            "Epoch 72/100\n",
            "31/31 [==============================] - 1s 14ms/step - loss: 4.5311 - mae: 5.0087 - val_loss: 5.9810 - val_mae: 6.4616\n",
            "Epoch 73/100\n",
            "31/31 [==============================] - 1s 14ms/step - loss: 4.5055 - mae: 4.9783 - val_loss: 5.2032 - val_mae: 5.6786\n",
            "Epoch 74/100\n",
            "31/31 [==============================] - 1s 14ms/step - loss: 4.5010 - mae: 4.9761 - val_loss: 7.0153 - val_mae: 7.4990\n",
            "Epoch 75/100\n",
            "31/31 [==============================] - 1s 14ms/step - loss: 4.5010 - mae: 4.9796 - val_loss: 5.2732 - val_mae: 5.7503\n",
            "Epoch 76/100\n",
            "31/31 [==============================] - 1s 14ms/step - loss: 4.5388 - mae: 5.0188 - val_loss: 5.2596 - val_mae: 5.7407\n",
            "Epoch 77/100\n",
            "31/31 [==============================] - 1s 13ms/step - loss: 4.4968 - mae: 4.9725 - val_loss: 5.4561 - val_mae: 5.9417\n",
            "Epoch 78/100\n",
            "31/31 [==============================] - 1s 21ms/step - loss: 4.6009 - mae: 5.0783 - val_loss: 5.3645 - val_mae: 5.8386\n",
            "Epoch 79/100\n",
            "31/31 [==============================] - 1s 25ms/step - loss: 4.5665 - mae: 5.0472 - val_loss: 5.2286 - val_mae: 5.7037\n",
            "Epoch 80/100\n",
            "31/31 [==============================] - 1s 17ms/step - loss: 4.5670 - mae: 5.0429 - val_loss: 5.6104 - val_mae: 6.0938\n",
            "Epoch 81/100\n",
            "31/31 [==============================] - 1s 13ms/step - loss: 4.4978 - mae: 4.9738 - val_loss: 6.6152 - val_mae: 7.0964\n",
            "Epoch 82/100\n",
            "31/31 [==============================] - 1s 14ms/step - loss: 4.5151 - mae: 4.9919 - val_loss: 5.4838 - val_mae: 5.9641\n",
            "Epoch 83/100\n",
            "31/31 [==============================] - 1s 14ms/step - loss: 4.5038 - mae: 4.9802 - val_loss: 5.1019 - val_mae: 5.5801\n",
            "Epoch 84/100\n",
            "31/31 [==============================] - 1s 14ms/step - loss: 4.5645 - mae: 5.0423 - val_loss: 6.7245 - val_mae: 7.2068\n",
            "Epoch 85/100\n",
            "31/31 [==============================] - 1s 14ms/step - loss: 4.5025 - mae: 4.9762 - val_loss: 5.6968 - val_mae: 6.1774\n",
            "Epoch 86/100\n",
            "31/31 [==============================] - 1s 14ms/step - loss: 4.6823 - mae: 5.1602 - val_loss: 5.2057 - val_mae: 5.6866\n",
            "Epoch 87/100\n",
            "31/31 [==============================] - 1s 14ms/step - loss: 4.6820 - mae: 5.1583 - val_loss: 5.1600 - val_mae: 5.6341\n",
            "Epoch 88/100\n",
            "31/31 [==============================] - 1s 14ms/step - loss: 4.5597 - mae: 5.0362 - val_loss: 6.7667 - val_mae: 7.2470\n",
            "Epoch 89/100\n",
            "31/31 [==============================] - 1s 14ms/step - loss: 4.4959 - mae: 4.9718 - val_loss: 5.7952 - val_mae: 6.2764\n",
            "Epoch 90/100\n",
            "31/31 [==============================] - 1s 14ms/step - loss: 4.5189 - mae: 4.9936 - val_loss: 6.0176 - val_mae: 6.4969\n",
            "Epoch 91/100\n",
            "31/31 [==============================] - 0s 13ms/step - loss: 4.5240 - mae: 5.0016 - val_loss: 6.3377 - val_mae: 6.8179\n",
            "Epoch 92/100\n",
            "31/31 [==============================] - 1s 14ms/step - loss: 4.5120 - mae: 4.9884 - val_loss: 6.5144 - val_mae: 6.9947\n",
            "Epoch 93/100\n",
            "31/31 [==============================] - 1s 14ms/step - loss: 4.5597 - mae: 5.0399 - val_loss: 6.1392 - val_mae: 6.6166\n",
            "Epoch 94/100\n",
            "31/31 [==============================] - 0s 13ms/step - loss: 4.6018 - mae: 5.0787 - val_loss: 5.9648 - val_mae: 6.4462\n",
            "Epoch 95/100\n",
            "31/31 [==============================] - 1s 14ms/step - loss: 4.4632 - mae: 4.9428 - val_loss: 5.6304 - val_mae: 6.1136\n",
            "Epoch 96/100\n",
            "31/31 [==============================] - 1s 14ms/step - loss: 4.4680 - mae: 4.9498 - val_loss: 6.0150 - val_mae: 6.4946\n",
            "Epoch 97/100\n",
            "31/31 [==============================] - 1s 19ms/step - loss: 4.4798 - mae: 4.9578 - val_loss: 5.6950 - val_mae: 6.1755\n",
            "Epoch 98/100\n",
            "31/31 [==============================] - 1s 25ms/step - loss: 4.4861 - mae: 4.9610 - val_loss: 5.9694 - val_mae: 6.4488\n",
            "Epoch 99/100\n",
            "31/31 [==============================] - 1s 14ms/step - loss: 4.4740 - mae: 4.9520 - val_loss: 5.2474 - val_mae: 5.7267\n",
            "Epoch 100/100\n",
            "31/31 [==============================] - 1s 14ms/step - loss: 4.4967 - mae: 4.9747 - val_loss: 5.4179 - val_mae: 5.8976\n"
          ]
        }
      ],
      "source": [
        "# Reset states generated by Keras\n",
        "tf.keras.backend.clear_session()\n",
        "\n",
        "# Build the model\n",
        "model = tf.keras.models.Sequential([\n",
        "  tf.keras.layers.Lambda(lambda x: tf.expand_dims(x, axis=-1),\n",
        "                      input_shape=[None]),\n",
        "   tf.keras.layers.Bidirectional(tf.keras.layers.LSTM(32, return_sequences=True)),\n",
        "  tf.keras.layers.Bidirectional(tf.keras.layers.LSTM(32)),\n",
        "  tf.keras.layers.Dense(1),\n",
        "  tf.keras.layers.Lambda(lambda x: x * 100.0)\n",
        "])\n",
        "\n",
        "# Set the learning rate\n",
        "learning_rate = 2e-6\n",
        "\n",
        "# Set the optimizer\n",
        "optimizer = tf.keras.optimizers.SGD(learning_rate=learning_rate, momentum=0.9)\n",
        "\n",
        "# Set the training parameters\n",
        "model.compile(loss=tf.keras.losses.Huber(),\n",
        "              optimizer=optimizer,\n",
        "              metrics=[\"mae\"])\n",
        "\n",
        "# Train the model\n",
        "history = model.fit(dataset,epochs=100, validation_data=val_set)"
      ]
    },
    {
      "cell_type": "code",
      "source": [],
      "metadata": {
        "id": "RI54VdjEExVu"
      },
      "execution_count": null,
      "outputs": []
    }
  ],
  "metadata": {
    "accelerator": "GPU",
    "colab": {
      "provenance": [],
      "gpuType": "T4"
    },
    "kernelspec": {
      "display_name": "Python 3",
      "name": "python3"
    },
    "language_info": {
      "codemirror_mode": {
        "name": "ipython",
        "version": 3
      },
      "file_extension": ".py",
      "mimetype": "text/x-python",
      "name": "python",
      "nbconvert_exporter": "python",
      "pygments_lexer": "ipython3",
      "version": "3.7.4"
    }
  },
  "nbformat": 4,
  "nbformat_minor": 0
}