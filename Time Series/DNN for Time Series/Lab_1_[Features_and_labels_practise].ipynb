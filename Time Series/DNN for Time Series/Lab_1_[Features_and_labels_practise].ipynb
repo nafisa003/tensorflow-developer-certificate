{
  "nbformat": 4,
  "nbformat_minor": 0,
  "metadata": {
    "colab": {
      "provenance": []
    },
    "kernelspec": {
      "name": "python3",
      "display_name": "Python 3"
    },
    "language_info": {
      "name": "python"
    }
  },
  "cells": [
    {
      "cell_type": "code",
      "execution_count": 1,
      "metadata": {
        "id": "6jL686mKxhJi"
      },
      "outputs": [],
      "source": [
        "import tensorflow as tf"
      ]
    },
    {
      "cell_type": "code",
      "source": [
        "# import numpy as np\n",
        "# data=np.arange(10)\n",
        "# dataset=tf.data.Dataset.from_tensor_slices(data)\n",
        "\n",
        "dataset=tf.data.Dataset.range(10)\n",
        "\n",
        "for val in dataset:\n",
        "  print(val.numpy())  #creates a dataset with numpy values and prints the numpy values from tensor slices"
      ],
      "metadata": {
        "colab": {
          "base_uri": "https://localhost:8080/"
        },
        "id": "c7BUcnbGxxWE",
        "outputId": "5f4f304b-8d61-4b54-9c1d-df7b85d90fd3"
      },
      "execution_count": 17,
      "outputs": [
        {
          "output_type": "stream",
          "name": "stdout",
          "text": [
            "0\n",
            "1\n",
            "2\n",
            "3\n",
            "4\n",
            "5\n",
            "6\n",
            "7\n",
            "8\n",
            "9\n"
          ]
        }
      ]
    },
    {
      "cell_type": "code",
      "source": [
        "dataset=dataset.window(size=5,shift=1)\n",
        "\n",
        "for window_val in dataset:\n",
        "  print(window_val) #returns the iterables"
      ],
      "metadata": {
        "colab": {
          "base_uri": "https://localhost:8080/"
        },
        "id": "F5eQy3jkx-Os",
        "outputId": "b602d4ce-31bf-44d9-e756-98cb1bcf872d"
      },
      "execution_count": 18,
      "outputs": [
        {
          "output_type": "stream",
          "name": "stdout",
          "text": [
            "<_VariantDataset element_spec=TensorSpec(shape=(), dtype=tf.int64, name=None)>\n",
            "<_VariantDataset element_spec=TensorSpec(shape=(), dtype=tf.int64, name=None)>\n",
            "<_VariantDataset element_spec=TensorSpec(shape=(), dtype=tf.int64, name=None)>\n",
            "<_VariantDataset element_spec=TensorSpec(shape=(), dtype=tf.int64, name=None)>\n",
            "<_VariantDataset element_spec=TensorSpec(shape=(), dtype=tf.int64, name=None)>\n",
            "<_VariantDataset element_spec=TensorSpec(shape=(), dtype=tf.int64, name=None)>\n",
            "<_VariantDataset element_spec=TensorSpec(shape=(), dtype=tf.int64, name=None)>\n",
            "<_VariantDataset element_spec=TensorSpec(shape=(), dtype=tf.int64, name=None)>\n",
            "<_VariantDataset element_spec=TensorSpec(shape=(), dtype=tf.int64, name=None)>\n",
            "<_VariantDataset element_spec=TensorSpec(shape=(), dtype=tf.int64, name=None)>\n"
          ]
        }
      ]
    },
    {
      "cell_type": "code",
      "source": [
        "for window_val in dataset:\n",
        "  print([item.numpy() for item in window_val])"
      ],
      "metadata": {
        "colab": {
          "base_uri": "https://localhost:8080/"
        },
        "id": "Q1Z4uspUz2TV",
        "outputId": "fbbb5760-ac00-45b2-cc49-75b2291318f9"
      },
      "execution_count": 19,
      "outputs": [
        {
          "output_type": "stream",
          "name": "stdout",
          "text": [
            "[0, 1, 2, 3, 4]\n",
            "[1, 2, 3, 4, 5]\n",
            "[2, 3, 4, 5, 6]\n",
            "[3, 4, 5, 6, 7]\n",
            "[4, 5, 6, 7, 8]\n",
            "[5, 6, 7, 8, 9]\n",
            "[6, 7, 8, 9]\n",
            "[7, 8, 9]\n",
            "[8, 9]\n",
            "[9]\n"
          ]
        }
      ]
    },
    {
      "cell_type": "code",
      "source": [
        "#or you can check out window elements in this way too\n",
        "for window_val in dataset:\n",
        "  for item in window_val:\n",
        "    print(item.numpy(),end=\" \")\n",
        "  print()"
      ],
      "metadata": {
        "colab": {
          "base_uri": "https://localhost:8080/"
        },
        "id": "fj2f10ex0QtX",
        "outputId": "86092b0d-69b0-41aa-a69a-ec9df6369780"
      },
      "execution_count": 22,
      "outputs": [
        {
          "output_type": "stream",
          "name": "stdout",
          "text": [
            "0 1 2 3 4 \n",
            "1 2 3 4 5 \n",
            "2 3 4 5 6 \n",
            "3 4 5 6 7 \n",
            "4 5 6 7 8 \n",
            "5 6 7 8 9 \n",
            "6 7 8 9 \n",
            "7 8 9 \n",
            "8 9 \n",
            "9 \n"
          ]
        }
      ]
    },
    {
      "cell_type": "code",
      "source": [
        "#let's get evenly sized elements\n",
        "\n",
        "dataset=tf.data.Dataset.range(10)\n",
        "\n",
        "dataset=dataset.window(size=5,shift=1,drop_remainder=True)\n",
        "for val in dataset:\n",
        "  print([item.numpy() for item in val])"
      ],
      "metadata": {
        "colab": {
          "base_uri": "https://localhost:8080/"
        },
        "id": "yaInAwOk1Jmo",
        "outputId": "3a1b7fe8-e903-4f4c-fdb0-c980712092d9"
      },
      "execution_count": 23,
      "outputs": [
        {
          "output_type": "stream",
          "name": "stdout",
          "text": [
            "[0, 1, 2, 3, 4]\n",
            "[1, 2, 3, 4, 5]\n",
            "[2, 3, 4, 5, 6]\n",
            "[3, 4, 5, 6, 7]\n",
            "[4, 5, 6, 7, 8]\n",
            "[5, 6, 7, 8, 9]\n"
          ]
        }
      ]
    },
    {
      "cell_type": "code",
      "source": [
        "dataset = tf.data.Dataset.range(10)\n",
        "\n",
        "# Window the data but only take those with the specified size\n",
        "dataset = dataset.window(5, shift=1, drop_remainder=True)\n",
        "\n",
        "\n",
        "# Flatten the windows by putting its elements in a single batch\n",
        "dataset=dataset.flat_map(lambda window: window.batch(5))\n",
        "\n",
        "for val in dataset:\n",
        "  print(val.numpy())"
      ],
      "metadata": {
        "colab": {
          "base_uri": "https://localhost:8080/"
        },
        "id": "WUSJDWOt19e-",
        "outputId": "72052c69-6c3b-4627-fb94-dd649368706c"
      },
      "execution_count": 30,
      "outputs": [
        {
          "output_type": "stream",
          "name": "stdout",
          "text": [
            "[0 1 2 3 4]\n",
            "[1 2 3 4 5]\n",
            "[2 3 4 5 6]\n",
            "[3 4 5 6 7]\n",
            "[4 5 6 7 8]\n",
            "[5 6 7 8 9]\n"
          ]
        }
      ]
    },
    {
      "cell_type": "code",
      "source": [
        "dataset=dataset.map(lambda window: (window[:-1], window[-1]) )\n",
        "\n",
        "for features,labels in dataset:\n",
        "  print(\"features= \",features.numpy())\n",
        "  print(\"labels= \",labels.numpy())\n",
        "  print()"
      ],
      "metadata": {
        "colab": {
          "base_uri": "https://localhost:8080/"
        },
        "id": "XHk-Lxqc2V3s",
        "outputId": "9d4b353a-4b11-4e89-9bfc-7d78cb5e806a"
      },
      "execution_count": 31,
      "outputs": [
        {
          "output_type": "stream",
          "name": "stdout",
          "text": [
            "features=  [0 1 2 3]\n",
            "labels=  4\n",
            "\n",
            "features=  [1 2 3 4]\n",
            "labels=  5\n",
            "\n",
            "features=  [2 3 4 5]\n",
            "labels=  6\n",
            "\n",
            "features=  [3 4 5 6]\n",
            "labels=  7\n",
            "\n",
            "features=  [4 5 6 7]\n",
            "labels=  8\n",
            "\n",
            "features=  [5 6 7 8]\n",
            "labels=  9\n",
            "\n"
          ]
        }
      ]
    },
    {
      "cell_type": "code",
      "source": [
        "#its is a good practise to shuffle the data\n",
        "\n",
        "dataset=tf.data.Dataset.range(10)\n",
        "dataset=dataset.window(size=5,shift=1,drop_remainder=True)\n",
        "dataset=dataset.flat_map(lambda window: window.batch(5))\n",
        "\n",
        "dataset=dataset.map(lambda window: (window[:-1], window[-1]))\n",
        "dataset=dataset.shuffle(buffer_size=10)\n",
        "\n",
        "for features,labels in dataset:\n",
        "  print(\"features= \",features.numpy())\n",
        "  print(\"labels= \",labels.numpy())\n",
        "  print()"
      ],
      "metadata": {
        "colab": {
          "base_uri": "https://localhost:8080/"
        },
        "id": "QMldEHvU2zae",
        "outputId": "ea24d63a-d09b-4b7e-e4e1-b9eaaaf9354b"
      },
      "execution_count": 32,
      "outputs": [
        {
          "output_type": "stream",
          "name": "stdout",
          "text": [
            "features=  [3 4 5 6]\n",
            "labels=  7\n",
            "\n",
            "features=  [4 5 6 7]\n",
            "labels=  8\n",
            "\n",
            "features=  [1 2 3 4]\n",
            "labels=  5\n",
            "\n",
            "features=  [0 1 2 3]\n",
            "labels=  4\n",
            "\n",
            "features=  [5 6 7 8]\n",
            "labels=  9\n",
            "\n",
            "features=  [2 3 4 5]\n",
            "labels=  6\n",
            "\n"
          ]
        }
      ]
    },
    {
      "cell_type": "code",
      "source": [
        "# Create batches of windows\n",
        "dataset=dataset.batch(2).prefetch(1)\n",
        "for features,labels in dataset:\n",
        "  print(\"features= \",features.numpy())\n",
        "  print(\"labels= \",labels.numpy())\n",
        "  print()"
      ],
      "metadata": {
        "colab": {
          "base_uri": "https://localhost:8080/"
        },
        "id": "DDcijVOy4ZUP",
        "outputId": "ee9040c4-55cd-4398-8821-8d7745933f54"
      },
      "execution_count": 33,
      "outputs": [
        {
          "output_type": "stream",
          "name": "stdout",
          "text": [
            "features=  [[1 2 3 4]\n",
            " [3 4 5 6]]\n",
            "labels=  [5 7]\n",
            "\n",
            "features=  [[4 5 6 7]\n",
            " [2 3 4 5]]\n",
            "labels=  [8 6]\n",
            "\n",
            "features=  [[0 1 2 3]\n",
            " [5 6 7 8]]\n",
            "labels=  [4 9]\n",
            "\n"
          ]
        }
      ]
    },
    {
      "cell_type": "code",
      "source": [],
      "metadata": {
        "id": "8D1RJfoM4wJ3"
      },
      "execution_count": null,
      "outputs": []
    }
  ]
}