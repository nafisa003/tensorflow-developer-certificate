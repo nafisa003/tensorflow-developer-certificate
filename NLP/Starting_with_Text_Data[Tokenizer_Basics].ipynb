{
  "nbformat": 4,
  "nbformat_minor": 0,
  "metadata": {
    "colab": {
      "provenance": []
    },
    "kernelspec": {
      "name": "python3",
      "display_name": "Python 3"
    },
    "language_info": {
      "name": "python"
    }
  },
  "cells": [
    {
      "cell_type": "markdown",
      "source": [
        "#Basic preprocessing for text data\n",
        "In most NLP tasks, the initial step in preparing your data is to extract a vocabulary of words from your corpus (i.e. input texts). You will need to define how to represent the texts into numerical representations which can be used to train a neural network. These representations are called tokens and Tensorflow and Keras makes it easy to generate these using its APIs. You will see how to do that in the next cells."
      ],
      "metadata": {
        "id": "2XE2GjmIWlFR"
      }
    },
    {
      "cell_type": "markdown",
      "source": [
        "#Generating the vocabulary\n",
        "In this notebook, you will look first at how you can provide a look up dictionary for each word. The code below takes a list of sentences, then takes each word in those sentences and assigns it to an integer. This is done using the fit_on_texts() method and you can get the result by looking at the word_index property. More frequent words have a lower index."
      ],
      "metadata": {
        "id": "7JVzldF7WnfD"
      }
    },
    {
      "cell_type": "code",
      "source": [
        "from tensorflow.keras.preprocessing.text import Tokenizer\n",
        "\n",
        "input_sentences=[\n",
        "    'I love my dog',\n",
        "    'You love pizza'\n",
        "]\n",
        "\n",
        "# Initialize the Tokenizer class\n",
        "tokenizer = Tokenizer(num_words = 100)\n",
        "\n",
        "# Generate indices for each word in the corpus\n",
        "tokenizer.fit_on_texts(input_sentences)\n",
        "# Get the indices and print it\n",
        "word_index=tokenizer.word_index\n",
        "print(word_index)"
      ],
      "metadata": {
        "colab": {
          "base_uri": "https://localhost:8080/"
        },
        "id": "uyzBCmnSWwci",
        "outputId": "ce2b569c-3fa9-4dfc-e190-e31726faa79a"
      },
      "execution_count": 1,
      "outputs": [
        {
          "output_type": "stream",
          "name": "stdout",
          "text": [
            "{'love': 1, 'i': 2, 'my': 3, 'dog': 4, 'you': 5, 'pizza': 6}\n"
          ]
        }
      ]
    },
    {
      "cell_type": "markdown",
      "source": [
        "The num_words parameter used in the initializer specifies the maximum number of words minus one (based on frequency) to keep when generating sequences. You will see this in a later exercise. For now, the important thing to note is it does not affect how the word_index dictionary is generated. You can try passing 1 instead of 100 as shown on the next cell and you will arrive at the same word_index.\n",
        "\n",
        "Also notice that by default, all punctuation is ignored and words are converted to lower case. You can override these behaviors by modifying the filters and lower arguments of the Tokenizer class as described here. You can try modifying these in the next cell below and compare the output to the one generated above."
      ],
      "metadata": {
        "id": "5zU1fGOOYx4J"
      }
    },
    {
      "cell_type": "code",
      "source": [
        "tokenizer=Tokenizer(num_words=1)\n",
        "\n",
        "sentences=[\n",
        "    'I love rain',\n",
        "    'Harry Potter saves Hogwarts!'\n",
        "]\n",
        "tokenizer.fit_on_texts(sentences)\n",
        "word_index=tokenizer.word_index\n",
        "print(word_index)"
      ],
      "metadata": {
        "colab": {
          "base_uri": "https://localhost:8080/"
        },
        "id": "v64-CsCGY4x-",
        "outputId": "88b551cb-b9be-4f57-98c7-052753611301"
      },
      "execution_count": 2,
      "outputs": [
        {
          "output_type": "stream",
          "name": "stdout",
          "text": [
            "{'i': 1, 'love': 2, 'rain': 3, 'harry': 4, 'potter': 5, 'saves': 6, 'hogwarts': 7}\n"
          ]
        }
      ]
    },
    {
      "cell_type": "markdown",
      "source": [
        "#Generating Sequences and Padding\n",
        "you need to prepare text data with uniform size before feeding it to your model.\n",
        "\n"
      ],
      "metadata": {
        "id": "k-SB-pmGeH3V"
      }
    },
    {
      "cell_type": "markdown",
      "source": [
        "##Text to Sequences\n",
        "you saw how to generate a word_index dictionary to generate tokens for each word in your corpus. You can then use the result to convert each of the input sentences into a sequence of tokens. That is done using the texts_to_sequences() method as shown below."
      ],
      "metadata": {
        "id": "rEeX2SaweRm_"
      }
    },
    {
      "cell_type": "code",
      "source": [
        "sentences = [\n",
        "    'I love my dog',\n",
        "    'I love my cat',\n",
        "    'You love my dog!',\n",
        "    'Do you think my dog is amazing?'\n",
        "]\n",
        "\n",
        "# Initialize the Tokenizer class\n",
        "tokenizer = Tokenizer(num_words = 100, oov_token=\"<OOV>\") #oov is out of vocabulary token for ords in test data that were \n",
        "                                                          #not present intraining so word_index as not created for them\n",
        "                                                          #Notice that if num_words is less (like 1) in this case you won't get a sequence if \n",
        "                                                          #though word_index as created same as before\n",
        "\n",
        "# Tokenize the input sentences\n",
        "tokenizer.fit_on_texts(sentences)\n",
        "\n",
        "# Get the word index dictionary\n",
        "word_index = tokenizer.word_index\n",
        "\n",
        "sequences=tokenizer.texts_to_sequences(sentences)\n",
        "print(word_index)\n",
        "print(sequences)"
      ],
      "metadata": {
        "colab": {
          "base_uri": "https://localhost:8080/"
        },
        "id": "L4x212QVaNQE",
        "outputId": "39ec61ab-9951-4553-be97-059ec92cb95e"
      },
      "execution_count": 6,
      "outputs": [
        {
          "output_type": "stream",
          "name": "stdout",
          "text": [
            "{'<OOV>': 1, 'my': 2, 'love': 3, 'dog': 4, 'i': 5, 'you': 6, 'cat': 7, 'do': 8, 'think': 9, 'is': 10, 'amazing': 11}\n",
            "[[5, 3, 2, 4], [5, 3, 2, 7], [6, 3, 2, 4], [8, 6, 9, 2, 4, 10, 11]]\n"
          ]
        }
      ]
    },
    {
      "cell_type": "markdown",
      "source": [
        "#Padding\n",
        "As mentioned in the lecture, you will usually need to pad the sequences into a uniform length because that is what your model expects. You can use the pad_sequences for that. By default, it will pad according to the length of the longest sequence. You can override this with the maxlen argument to define a specific length. Feel free to play with the other arguments shown in class and compare the result."
      ],
      "metadata": {
        "id": "8a65a9RyfoAi"
      }
    },
    {
      "cell_type": "code",
      "source": [
        "from tensorflow.keras.preprocessing.sequence import pad_sequences\n",
        "padded=pad_sequences(sequences)\n",
        "print('Padding:Pre')\n",
        "print(padded)\n",
        "padded_post=pad_sequences(sequences,padding=\"post\") #can also examine with maxlen and truncating params\n",
        "print('Padding:Post')\n",
        "print(padded_post)"
      ],
      "metadata": {
        "colab": {
          "base_uri": "https://localhost:8080/"
        },
        "id": "wIwNIf7bejT1",
        "outputId": "41c73b25-ce9b-46ea-8ea2-7afdc1f868a7"
      },
      "execution_count": 10,
      "outputs": [
        {
          "output_type": "stream",
          "name": "stdout",
          "text": [
            "Padding:Pre\n",
            "[[ 0  0  0  5  3  2  4]\n",
            " [ 0  0  0  5  3  2  7]\n",
            " [ 0  0  0  6  3  2  4]\n",
            " [ 8  6  9  2  4 10 11]]\n",
            "Padding:Post\n",
            "[[ 5  3  2  4  0  0  0]\n",
            " [ 5  3  2  7  0  0  0]\n",
            " [ 6  3  2  4  0  0  0]\n",
            " [ 8  6  9  2  4 10 11]]\n"
          ]
        }
      ]
    },
    {
      "cell_type": "markdown",
      "source": [
        "#Out-of-vocabulary tokens\n",
        "Notice that you defined an oov_token when the Tokenizer was initialized earlier. This will be used when you have input words that are not found in the word_index dictionary. For example, you may decide to collect more text after your initial training and decide to not re-generate the word_index. You will see this in action in the cell below. Notice that the token 1 is inserted for words that are not found in the dictionary."
      ],
      "metadata": {
        "id": "n6ArU_uhgbKS"
      }
    },
    {
      "cell_type": "code",
      "source": [
        "# Try with words that the tokenizer wasn't fit to\n",
        "test_data = [\n",
        "    'i really love my dog',\n",
        "    'my dog loves my manatee'\n",
        "]\n",
        "\n",
        "# Generate the sequences\n",
        "test_seq = tokenizer.texts_to_sequences(test_data)\n",
        "\n",
        "# Print the word index dictionary\n",
        "print(\"\\nWord Index = \" , word_index)\n",
        "\n",
        "# Print the sequences with OOV\n",
        "print(\"\\nTest Sequence = \", test_seq)\n",
        "\n",
        "# Print the padded result\n",
        "padded = pad_sequences(test_seq, maxlen=10)\n",
        "print(\"\\nPadded Test Sequence: \")\n",
        "print(padded)"
      ],
      "metadata": {
        "colab": {
          "base_uri": "https://localhost:8080/"
        },
        "id": "-wTPiZbNf9c3",
        "outputId": "a59822e7-0e7d-4589-fd3e-b2f89b03dc5d"
      },
      "execution_count": 11,
      "outputs": [
        {
          "output_type": "stream",
          "name": "stdout",
          "text": [
            "\n",
            "Word Index =  {'<OOV>': 1, 'my': 2, 'love': 3, 'dog': 4, 'i': 5, 'you': 6, 'cat': 7, 'do': 8, 'think': 9, 'is': 10, 'amazing': 11}\n",
            "\n",
            "Test Sequence =  [[5, 1, 3, 2, 4], [2, 4, 1, 2, 1]]\n",
            "\n",
            "Padded Test Sequence: \n",
            "[[0 0 0 0 0 5 1 3 2 4]\n",
            " [0 0 0 0 0 2 4 1 2 1]]\n"
          ]
        }
      ]
    },
    {
      "cell_type": "code",
      "source": [],
      "metadata": {
        "id": "tNcZxLItgk93"
      },
      "execution_count": null,
      "outputs": []
    }
  ]
}