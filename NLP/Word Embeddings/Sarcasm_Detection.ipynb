{
  "nbformat": 4,
  "nbformat_minor": 0,
  "metadata": {
    "colab": {
      "provenance": []
    },
    "kernelspec": {
      "name": "python3",
      "display_name": "Python 3"
    },
    "language_info": {
      "name": "python"
    }
  },
  "cells": [
    {
      "cell_type": "code",
      "execution_count": 1,
      "metadata": {
        "id": "20xYjTMdtbs8",
        "colab": {
          "base_uri": "https://localhost:8080/"
        },
        "outputId": "17c560a9-d4b3-4916-956e-d9a26954465a"
      },
      "outputs": [
        {
          "output_type": "stream",
          "name": "stdout",
          "text": [
            "--2023-06-10 06:12:35--  https://storage.googleapis.com/tensorflow-1-public/course3/sarcasm.json\n",
            "Resolving storage.googleapis.com (storage.googleapis.com)... 108.177.12.128, 108.177.13.128, 74.125.26.128, ...\n",
            "Connecting to storage.googleapis.com (storage.googleapis.com)|108.177.12.128|:443... connected.\n",
            "HTTP request sent, awaiting response... 200 OK\n",
            "Length: 5643545 (5.4M) [application/json]\n",
            "Saving to: ‘sarcasm.json’\n",
            "\n",
            "\rsarcasm.json          0%[                    ]       0  --.-KB/s               \rsarcasm.json        100%[===================>]   5.38M  --.-KB/s    in 0.1s    \n",
            "\n",
            "2023-06-10 06:12:35 (56.3 MB/s) - ‘sarcasm.json’ saved [5643545/5643545]\n",
            "\n"
          ]
        }
      ],
      "source": [
        "!wget https://storage.googleapis.com/tensorflow-1-public/course3/sarcasm.json"
      ]
    },
    {
      "cell_type": "code",
      "source": [
        "#The dataset is saved as a JSON file and you can use Python's json module to load it into your workspace. \n",
        "#The cell below unpacks the JSON file into a list.\n",
        "import json\n",
        "\n",
        "with open('sarcasm.json','r') as f:\n",
        "  datastore=json.load(f)"
      ],
      "metadata": {
        "id": "grw_LGGZ4-y0"
      },
      "execution_count": 2,
      "outputs": []
    },
    {
      "cell_type": "code",
      "source": [
        "# Non-sarcastic headline\n",
        "print(datastore[0])\n",
        "\n",
        "# Sarcastic headline\n",
        "print(datastore[20000])"
      ],
      "metadata": {
        "colab": {
          "base_uri": "https://localhost:8080/"
        },
        "id": "Gs_9Itpn5Tdg",
        "outputId": "27006299-3f21-4073-f419-66db093b7f63"
      },
      "execution_count": 3,
      "outputs": [
        {
          "output_type": "stream",
          "name": "stdout",
          "text": [
            "{'article_link': 'https://www.huffingtonpost.com/entry/versace-black-code_us_5861fbefe4b0de3a08f600d5', 'headline': \"former versace store clerk sues over secret 'black code' for minority shoppers\", 'is_sarcastic': 0}\n",
            "{'article_link': 'https://www.theonion.com/pediatricians-announce-2011-newborns-are-ugliest-babies-1819572977', 'headline': 'pediatricians announce 2011 newborns are ugliest babies in 30 years', 'is_sarcastic': 1}\n"
          ]
        }
      ]
    },
    {
      "cell_type": "markdown",
      "source": [
        "With that, you can collect all urls, headlines, and labels for easier processing when using the tokenizer. For this lab, you will only need the headlines but we included the code to collect the URLs and labels as well."
      ],
      "metadata": {
        "id": "338840CV5hwQ"
      }
    },
    {
      "cell_type": "code",
      "source": [
        "sentences=[]\n",
        "labels=[]\n",
        "urls=[]\n",
        "\n",
        "for item in datastore:\n",
        "  sentences.append(item['headline'])\n",
        "  labels.append(item['is_sarcastic'])\n",
        "  urls.append(item['article_link'])"
      ],
      "metadata": {
        "id": "OmcN5xlO5awJ"
      },
      "execution_count": 4,
      "outputs": []
    },
    {
      "cell_type": "markdown",
      "metadata": {
        "id": "kw1I6oNSfCxa"
      },
      "source": [
        "## Hyperparameters\n",
        "\n",
        "We placed the hyperparameters in the cell below so you can easily tweak it later:"
      ]
    },
    {
      "cell_type": "code",
      "source": [
        "# Number of examples to use for training\n",
        "training_size=22000\n",
        "\n",
        "# Vocabulary size of the tokenizer\n",
        "vocab_size=1000\n",
        "\n",
        "# Maximum length of the padded sequences\n",
        "max_length=100\n",
        "\n",
        "# Output dimensions of the Embedding layer\n",
        "embedding_dim=16"
      ],
      "metadata": {
        "id": "Xpb8ELwI7WDo"
      },
      "execution_count": 24,
      "outputs": []
    },
    {
      "cell_type": "code",
      "source": [
        "len(sentences)"
      ],
      "metadata": {
        "colab": {
          "base_uri": "https://localhost:8080/"
        },
        "id": "82tfOwfS8acP",
        "outputId": "788f5b4f-9d8f-4986-9870-1299b6ae32eb"
      },
      "execution_count": 6,
      "outputs": [
        {
          "output_type": "execute_result",
          "data": {
            "text/plain": [
              "26709"
            ]
          },
          "metadata": {},
          "execution_count": 6
        }
      ]
    },
    {
      "cell_type": "code",
      "source": [
        "len(labels)"
      ],
      "metadata": {
        "colab": {
          "base_uri": "https://localhost:8080/"
        },
        "id": "U8Zf-_CL8iAN",
        "outputId": "a33165d8-e607-4ec1-9539-dfe4dc7f002a"
      },
      "execution_count": 7,
      "outputs": [
        {
          "output_type": "execute_result",
          "data": {
            "text/plain": [
              "26709"
            ]
          },
          "metadata": {},
          "execution_count": 7
        }
      ]
    },
    {
      "cell_type": "markdown",
      "metadata": {
        "id": "dHibcDI0H5Zj"
      },
      "source": [
        "## Split the dataset\n",
        "\n",
        "Next, you will generate your train and test datasets. You will use the `training_size` value you set above to slice the `sentences` and `labels` lists into two sublists: one fore training and another for testing."
      ]
    },
    {
      "cell_type": "code",
      "source": [
        "training_sentences=sentences[0:training_size]\n",
        "testing_sentences=sentences[training_size: ]\n",
        "\n",
        "training_labels=labels[0:training_size]\n",
        "testing_labels=labels[training_size: ]"
      ],
      "metadata": {
        "id": "tztSErb98jbo"
      },
      "execution_count": 25,
      "outputs": []
    },
    {
      "cell_type": "markdown",
      "metadata": {
        "id": "qciTzNR7IHzJ"
      },
      "source": [
        "## Preprocessing the train and test sets\n",
        "\n",
        "Now you can preprocess the text and labels so it can be consumed by the model. You use the `Tokenizer` class to create the vocabulary and the `pad_sequences` method to generate padded token sequences. You will also need to set the labels to a numpy array so it can be a valid data type for `model.fit()`."
      ]
    },
    {
      "cell_type": "code",
      "source": [
        "import numpy as np\n",
        "from tensorflow.keras.preprocessing.text import Tokenizer\n",
        "from tensorflow.keras.preprocessing.sequence import pad_sequences\n",
        "\n",
        "# Parameters for padding and OOV tokens\n",
        "trunc_type='post'\n",
        "padding_type='post'\n",
        "oov_tok = \"<OOV>\"\n",
        "\n",
        "# Initialize the Tokenizer class\n",
        "tokenizer = Tokenizer(num_words=vocab_size, oov_token=oov_tok)\n",
        "\n",
        "# Generate the word index dictionary\n",
        "tokenizer.fit_on_texts(training_sentences)\n",
        "word_index = tokenizer.word_index\n",
        "\n",
        "# Generate and pad the training sequences\n",
        "training_sequences = tokenizer.texts_to_sequences(training_sentences)\n",
        "training_padded = pad_sequences(training_sequences, maxlen=max_length, padding=padding_type, truncating=trunc_type)\n",
        "\n",
        "# Generate and pad the testing sequences\n",
        "testing_sequences = tokenizer.texts_to_sequences(testing_sentences)\n",
        "testing_padded = pad_sequences(testing_sequences, maxlen=max_length, padding=padding_type, truncating=trunc_type)\n",
        "\n",
        "# Convert the labels lists into numpy arrays\n",
        "training_labels = np.array(training_labels)\n",
        "testing_labels = np.array(testing_labels)"
      ],
      "metadata": {
        "id": "5bCrXMUi87-q"
      },
      "execution_count": 26,
      "outputs": []
    },
    {
      "cell_type": "markdown",
      "metadata": {
        "id": "AMF4afx2IdHo"
      },
      "source": [
        "## Build and Compile the Model\n",
        "\n",
        "Next, you will build the model. The architecture is similar to the previous lab but you will use a [GlobalAveragePooling1D](https://www.tensorflow.org/api_docs/python/tf/keras/layers/GlobalAveragePooling1D) layer instead of `Flatten` after the Embedding. This adds the task of averaging over the sequence dimension before connecting to the dense layers. See a short demo of how this works using the snippet below. Notice that it gets the average over 3 arrays (i.e. `(10 + 1 + 1) / 3` and `(2 + 3 + 1) / 3` to arrive at the final output."
      ]
    },
    {
      "cell_type": "code",
      "source": [
        "import tensorflow as tf\n",
        "\n",
        "# Initialize a GlobalAveragePooling1D (GAP1D) layer\n",
        "gap1d_layer = tf.keras.layers.GlobalAveragePooling1D()\n",
        "\n",
        "# Define sample array\n",
        "sample_array = np.array([[[10,2],[1,3],[1,1]]])\n",
        "\n",
        "#total rows, no of rows in each row, no of cols in each row\n",
        "# Print shape and contents of sample array\n",
        "print(f'shape of sample_array = {sample_array.shape}')\n",
        "print(f'sample array: {sample_array}')\n",
        "\n",
        "# Pass the sample array to the GAP1D layer\n",
        "output = gap1d_layer(sample_array)\n",
        "\n",
        "# Print shape and contents of the GAP1D output array\n",
        "print(f'output shape of gap1d_layer: {output.shape}')\n",
        "print(f'output array of gap1d_layer: {output.numpy()}')"
      ],
      "metadata": {
        "colab": {
          "base_uri": "https://localhost:8080/"
        },
        "id": "l2A7TxQz9bRF",
        "outputId": "5c6791a3-9bb0-45a4-e5ce-f534b20ea319"
      },
      "execution_count": 19,
      "outputs": [
        {
          "output_type": "stream",
          "name": "stdout",
          "text": [
            "shape of sample_array = (1, 3, 2)\n",
            "sample array: [[[10  2]\n",
            "  [ 1  3]\n",
            "  [ 1  1]]]\n",
            "output shape of gap1d_layer: (1, 2)\n",
            "output array of gap1d_layer: [[4 2]]\n"
          ]
        }
      ]
    },
    {
      "cell_type": "markdown",
      "metadata": {
        "id": "evlU_kqOshc4"
      },
      "source": [
        "This added computation reduces the dimensionality of the model as compared to using `Flatten()` and thus, the number of training parameters will also decrease. See the output of `model.summary()` below and see how it compares if you swap out the pooling layer with a simple `Flatten()`."
      ]
    },
    {
      "cell_type": "code",
      "execution_count": 27,
      "metadata": {
        "id": "FufaT4vlkiDE",
        "colab": {
          "base_uri": "https://localhost:8080/"
        },
        "outputId": "b68215ca-5b75-4587-998c-a9a49de8532a"
      },
      "outputs": [
        {
          "output_type": "stream",
          "name": "stdout",
          "text": [
            "Model: \"sequential_2\"\n",
            "_________________________________________________________________\n",
            " Layer (type)                Output Shape              Param #   \n",
            "=================================================================\n",
            " embedding_2 (Embedding)     (None, 100, 16)           16000     \n",
            "                                                                 \n",
            " global_average_pooling1d_4   (None, 16)               0         \n",
            " (GlobalAveragePooling1D)                                        \n",
            "                                                                 \n",
            " dense_4 (Dense)             (None, 24)                408       \n",
            "                                                                 \n",
            " dense_5 (Dense)             (None, 1)                 25        \n",
            "                                                                 \n",
            "=================================================================\n",
            "Total params: 16,433\n",
            "Trainable params: 16,433\n",
            "Non-trainable params: 0\n",
            "_________________________________________________________________\n"
          ]
        }
      ],
      "source": [
        "# Build the model\n",
        "model = tf.keras.Sequential([\n",
        "    tf.keras.layers.Embedding(vocab_size, embedding_dim, input_length=max_length),\n",
        "    tf.keras.layers.GlobalAveragePooling1D(),\n",
        "    tf.keras.layers.Dense(24, activation='relu'),\n",
        "    tf.keras.layers.Dense(1, activation='sigmoid')\n",
        "])\n",
        "\n",
        "# Print the model summary\n",
        "model.summary()"
      ]
    },
    {
      "cell_type": "code",
      "source": [
        "# Compile the model\n",
        "model.compile(loss='binary_crossentropy',optimizer='adam',metrics=['accuracy'])"
      ],
      "metadata": {
        "id": "GmU2FPaZ9iaG"
      },
      "execution_count": 28,
      "outputs": []
    },
    {
      "cell_type": "markdown",
      "metadata": {
        "id": "Axtd-WQAJIUK"
      },
      "source": [
        "## Train the Model\n",
        "\n",
        "Now you will feed in the prepared datasets to train the model. If you used the default hyperparameters, you will get around 99% training accuracy and 80% validation accuracy.\n",
        "\n",
        "*Tip: You can set the `verbose` parameter of `model.fit()` to `2` to indicate that you want to print just the results per epoch. Setting it to `1` (default) displays a progress bar per epoch, while `0` silences all displays. It doesn't matter much in this Colab but when working in a production environment, you may want to set this to `2` as recommended in the [documentation](https://keras.io/api/models/model_training_apis/#fit-method).*"
      ]
    },
    {
      "cell_type": "code",
      "source": [
        "num_epochs = 30\n",
        "\n",
        "# Train the model\n",
        "history = model.fit(training_padded, training_labels, epochs=num_epochs, validation_data=(testing_padded, testing_labels), verbose=2)"
      ],
      "metadata": {
        "colab": {
          "base_uri": "https://localhost:8080/"
        },
        "id": "CQINdokI_BBe",
        "outputId": "566e8c61-5ad5-42a5-9796-6d8c6dfd7bff"
      },
      "execution_count": 29,
      "outputs": [
        {
          "output_type": "stream",
          "name": "stdout",
          "text": [
            "Epoch 1/30\n",
            "688/688 - 3s - loss: 0.6536 - accuracy: 0.6096 - val_loss: 0.5423 - val_accuracy: 0.7658 - 3s/epoch - 4ms/step\n",
            "Epoch 2/30\n",
            "688/688 - 2s - loss: 0.4528 - accuracy: 0.7934 - val_loss: 0.4186 - val_accuracy: 0.8048 - 2s/epoch - 3ms/step\n",
            "Epoch 3/30\n",
            "688/688 - 2s - loss: 0.3954 - accuracy: 0.8195 - val_loss: 0.4057 - val_accuracy: 0.8095 - 2s/epoch - 3ms/step\n",
            "Epoch 4/30\n",
            "688/688 - 2s - loss: 0.3785 - accuracy: 0.8272 - val_loss: 0.3977 - val_accuracy: 0.8167 - 2s/epoch - 2ms/step\n",
            "Epoch 5/30\n",
            "688/688 - 2s - loss: 0.3693 - accuracy: 0.8319 - val_loss: 0.3958 - val_accuracy: 0.8165 - 2s/epoch - 3ms/step\n",
            "Epoch 6/30\n",
            "688/688 - 2s - loss: 0.3637 - accuracy: 0.8355 - val_loss: 0.4003 - val_accuracy: 0.8148 - 2s/epoch - 3ms/step\n",
            "Epoch 7/30\n",
            "688/688 - 2s - loss: 0.3601 - accuracy: 0.8370 - val_loss: 0.4067 - val_accuracy: 0.8121 - 2s/epoch - 3ms/step\n",
            "Epoch 8/30\n",
            "688/688 - 2s - loss: 0.3587 - accuracy: 0.8365 - val_loss: 0.3971 - val_accuracy: 0.8165 - 2s/epoch - 3ms/step\n",
            "Epoch 9/30\n",
            "688/688 - 2s - loss: 0.3569 - accuracy: 0.8368 - val_loss: 0.3988 - val_accuracy: 0.8182 - 2s/epoch - 2ms/step\n",
            "Epoch 10/30\n",
            "688/688 - 2s - loss: 0.3571 - accuracy: 0.8366 - val_loss: 0.4006 - val_accuracy: 0.8116 - 2s/epoch - 3ms/step\n",
            "Epoch 11/30\n",
            "688/688 - 2s - loss: 0.3551 - accuracy: 0.8377 - val_loss: 0.4154 - val_accuracy: 0.8104 - 2s/epoch - 2ms/step\n",
            "Epoch 12/30\n",
            "688/688 - 2s - loss: 0.3562 - accuracy: 0.8372 - val_loss: 0.3997 - val_accuracy: 0.8140 - 2s/epoch - 2ms/step\n",
            "Epoch 13/30\n",
            "688/688 - 2s - loss: 0.3535 - accuracy: 0.8397 - val_loss: 0.4004 - val_accuracy: 0.8135 - 2s/epoch - 3ms/step\n",
            "Epoch 14/30\n",
            "688/688 - 2s - loss: 0.3541 - accuracy: 0.8376 - val_loss: 0.4122 - val_accuracy: 0.8063 - 2s/epoch - 3ms/step\n",
            "Epoch 15/30\n",
            "688/688 - 2s - loss: 0.3536 - accuracy: 0.8380 - val_loss: 0.4033 - val_accuracy: 0.8102 - 2s/epoch - 3ms/step\n",
            "Epoch 16/30\n",
            "688/688 - 2s - loss: 0.3534 - accuracy: 0.8400 - val_loss: 0.4022 - val_accuracy: 0.8131 - 2s/epoch - 3ms/step\n",
            "Epoch 17/30\n",
            "688/688 - 2s - loss: 0.3516 - accuracy: 0.8410 - val_loss: 0.4108 - val_accuracy: 0.8123 - 2s/epoch - 2ms/step\n",
            "Epoch 18/30\n",
            "688/688 - 2s - loss: 0.3528 - accuracy: 0.8396 - val_loss: 0.4075 - val_accuracy: 0.8123 - 2s/epoch - 2ms/step\n",
            "Epoch 19/30\n",
            "688/688 - 2s - loss: 0.3520 - accuracy: 0.8395 - val_loss: 0.4038 - val_accuracy: 0.8114 - 2s/epoch - 3ms/step\n",
            "Epoch 20/30\n",
            "688/688 - 2s - loss: 0.3525 - accuracy: 0.8390 - val_loss: 0.4023 - val_accuracy: 0.8152 - 2s/epoch - 4ms/step\n",
            "Epoch 21/30\n",
            "688/688 - 2s - loss: 0.3513 - accuracy: 0.8395 - val_loss: 0.4106 - val_accuracy: 0.8127 - 2s/epoch - 3ms/step\n",
            "Epoch 22/30\n",
            "688/688 - 2s - loss: 0.3521 - accuracy: 0.8397 - val_loss: 0.4061 - val_accuracy: 0.8121 - 2s/epoch - 2ms/step\n",
            "Epoch 23/30\n",
            "688/688 - 2s - loss: 0.3521 - accuracy: 0.8384 - val_loss: 0.4030 - val_accuracy: 0.8138 - 2s/epoch - 2ms/step\n",
            "Epoch 24/30\n",
            "688/688 - 2s - loss: 0.3508 - accuracy: 0.8394 - val_loss: 0.4064 - val_accuracy: 0.8127 - 2s/epoch - 3ms/step\n",
            "Epoch 25/30\n",
            "688/688 - 2s - loss: 0.3517 - accuracy: 0.8396 - val_loss: 0.4038 - val_accuracy: 0.8163 - 2s/epoch - 2ms/step\n",
            "Epoch 26/30\n",
            "688/688 - 2s - loss: 0.3505 - accuracy: 0.8398 - val_loss: 0.4026 - val_accuracy: 0.8135 - 2s/epoch - 3ms/step\n",
            "Epoch 27/30\n",
            "688/688 - 2s - loss: 0.3501 - accuracy: 0.8411 - val_loss: 0.4044 - val_accuracy: 0.8159 - 2s/epoch - 3ms/step\n",
            "Epoch 28/30\n",
            "688/688 - 2s - loss: 0.3503 - accuracy: 0.8399 - val_loss: 0.4032 - val_accuracy: 0.8135 - 2s/epoch - 2ms/step\n",
            "Epoch 29/30\n",
            "688/688 - 2s - loss: 0.3503 - accuracy: 0.8401 - val_loss: 0.4248 - val_accuracy: 0.8074 - 2s/epoch - 2ms/step\n",
            "Epoch 30/30\n",
            "688/688 - 2s - loss: 0.3519 - accuracy: 0.8399 - val_loss: 0.4059 - val_accuracy: 0.8110 - 2s/epoch - 2ms/step\n"
          ]
        }
      ]
    },
    {
      "cell_type": "code",
      "source": [
        "import matplotlib.pyplot as plt\n",
        "\n",
        "# Plot utility\n",
        "def plot_graphs(history, string):\n",
        "  plt.plot(history.history[string])\n",
        "  plt.plot(history.history['val_'+string])\n",
        "  plt.xlabel(\"Epochs\")\n",
        "  plt.ylabel(string)\n",
        "  plt.legend([string, 'val_'+string])\n",
        "  plt.show()\n",
        "  \n",
        "# Plot the accuracy and loss\n",
        "plot_graphs(history, \"accuracy\")\n",
        "plot_graphs(history, \"loss\")"
      ],
      "metadata": {
        "colab": {
          "base_uri": "https://localhost:8080/",
          "height": 883
        },
        "id": "6xhwaY5v_Lg3",
        "outputId": "f30f953c-9842-4b4b-b78f-2b71e4ce036c"
      },
      "execution_count": 30,
      "outputs": [
        {
          "output_type": "display_data",
          "data": {
            "text/plain": [
              "<Figure size 640x480 with 1 Axes>"
            ],
            "image/png": "[encoded data removed]"
          },
          "metadata": {}
        },
        {
          "output_type": "display_data",
          "data": {
            "text/plain": [
              "<Figure size 640x480 with 1 Axes>"
            ],
            "image/png": "[encoded data removed]"
          },
          "metadata": {}
        }
      ]
    },
    {
      "cell_type": "markdown",
      "source": [
        "Decreasing maxlen, vocab_size= slightly improved val_loss but it remains constant from 5 epochs to 30\n",
        "slight increase in training_size= similar result"
      ],
      "metadata": {
        "id": "1RfVZA5HBPcE"
      }
    },
    {
      "cell_type": "markdown",
      "metadata": {
        "id": "JN6kaxxcJQgd"
      },
      "source": [
        "## Visualize Word Embeddings\n",
        "\n",
        "As before, you can visualize the final weights of the embeddings using the [Tensorflow Embedding Projector](https://projector.tensorflow.org/)."
      ]
    },
    {
      "cell_type": "code",
      "execution_count": 31,
      "metadata": {
        "id": "c9MqihtEkzQ9",
        "colab": {
          "base_uri": "https://localhost:8080/"
        },
        "outputId": "8e1d28de-b147-433a-86b9-9a195400211b"
      },
      "outputs": [
        {
          "output_type": "stream",
          "name": "stdout",
          "text": [
            "(1000, 16)\n"
          ]
        }
      ],
      "source": [
        "# Get the index-word dictionary\n",
        "reverse_word_index = tokenizer.index_word\n",
        "\n",
        "# Get the embedding layer from the model (i.e. first layer)\n",
        "embedding_layer = model.layers[0]\n",
        "\n",
        "# Get the weights of the embedding layer\n",
        "embedding_weights = embedding_layer.get_weights()[0]\n",
        "\n",
        "# Print the shape. Expected is (vocab_size, embedding_dim)\n",
        "print(embedding_weights.shape) \n"
      ]
    },
    {
      "cell_type": "code",
      "execution_count": 32,
      "metadata": {
        "id": "LoBXVffknldU"
      },
      "outputs": [],
      "source": [
        "import io\n",
        "\n",
        "# Open writeable files\n",
        "out_v = io.open('vecs.tsv', 'w', encoding='utf-8')\n",
        "out_m = io.open('meta.tsv', 'w', encoding='utf-8')\n",
        "\n",
        "# Initialize the loop. Start counting at `1` because `0` is just for the padding\n",
        "for word_num in range(1, vocab_size):\n",
        "\n",
        "  # Get the word associated at the current index\n",
        "  word_name = reverse_word_index[word_num]\n",
        "\n",
        "  # Get the embedding weights associated with the current index\n",
        "  word_embedding = embedding_weights[word_num]\n",
        "\n",
        "  # Write the word name\n",
        "  out_m.write(word_name + \"\\n\")\n",
        "\n",
        "  # Write the word embedding\n",
        "  out_v.write('\\t'.join([str(x) for x in word_embedding]) + \"\\n\")\n",
        "\n",
        "# Close the files\n",
        "out_v.close()\n",
        "out_m.close()"
      ]
    },
    {
      "cell_type": "code",
      "execution_count": 33,
      "metadata": {
        "id": "U4eZ5HtVnnEE",
        "colab": {
          "base_uri": "https://localhost:8080/",
          "height": 17
        },
        "outputId": "a60d2cac-9e77-4f97-b5e7-914ecfda4ae1"
      },
      "outputs": [
        {
          "output_type": "display_data",
          "data": {
            "text/plain": [
              "<IPython.core.display.Javascript object>"
            ],
            "application/javascript": [
              "\n",
              "    async function download(id, filename, size) {\n",
              "      if (!google.colab.kernel.accessAllowed) {\n",
              "        return;\n",
              "      }\n",
              "      const div = document.createElement('div');\n",
              "      const label = document.createElement('label');\n",
              "      label.textContent = `Downloading \"${filename}\": `;\n",
              "      div.appendChild(label);\n",
              "      const progress = document.createElement('progress');\n",
              "      progress.max = size;\n",
              "      div.appendChild(progress);\n",
              "      document.body.appendChild(div);\n",
              "\n",
              "      const buffers = [];\n",
              "      let downloaded = 0;\n",
              "\n",
              "      const channel = await google.colab.kernel.comms.open(id);\n",
              "      // Send a message to notify the kernel that we're ready.\n",
              "      channel.send({})\n",
              "\n",
              "      for await (const message of channel.messages) {\n",
              "        // Send a message to notify the kernel that we're ready.\n",
              "        channel.send({})\n",
              "        if (message.buffers) {\n",
              "          for (const buffer of message.buffers) {\n",
              "            buffers.push(buffer);\n",
              "            downloaded += buffer.byteLength;\n",
              "            progress.value = downloaded;\n",
              "          }\n",
              "        }\n",
              "      }\n",
              "      const blob = new Blob(buffers, {type: 'application/binary'});\n",
              "      const a = document.createElement('a');\n",
              "      a.href = window.URL.createObjectURL(blob);\n",
              "      a.download = filename;\n",
              "      div.appendChild(a);\n",
              "      a.click();\n",
              "      div.remove();\n",
              "    }\n",
              "  "
            ]
          },
          "metadata": {}
        },
        {
          "output_type": "display_data",
          "data": {
            "text/plain": [
              "<IPython.core.display.Javascript object>"
            ],
            "application/javascript": [
              "download(\"download_81f7929d-5bf2-487b-9bd5-327cf2a92362\", \"vecs.tsv\", 181354)"
            ]
          },
          "metadata": {}
        },
        {
          "output_type": "display_data",
          "data": {
            "text/plain": [
              "<IPython.core.display.Javascript object>"
            ],
            "application/javascript": [
              "\n",
              "    async function download(id, filename, size) {\n",
              "      if (!google.colab.kernel.accessAllowed) {\n",
              "        return;\n",
              "      }\n",
              "      const div = document.createElement('div');\n",
              "      const label = document.createElement('label');\n",
              "      label.textContent = `Downloading \"${filename}\": `;\n",
              "      div.appendChild(label);\n",
              "      const progress = document.createElement('progress');\n",
              "      progress.max = size;\n",
              "      div.appendChild(progress);\n",
              "      document.body.appendChild(div);\n",
              "\n",
              "      const buffers = [];\n",
              "      let downloaded = 0;\n",
              "\n",
              "      const channel = await google.colab.kernel.comms.open(id);\n",
              "      // Send a message to notify the kernel that we're ready.\n",
              "      channel.send({})\n",
              "\n",
              "      for await (const message of channel.messages) {\n",
              "        // Send a message to notify the kernel that we're ready.\n",
              "        channel.send({})\n",
              "        if (message.buffers) {\n",
              "          for (const buffer of message.buffers) {\n",
              "            buffers.push(buffer);\n",
              "            downloaded += buffer.byteLength;\n",
              "            progress.value = downloaded;\n",
              "          }\n",
              "        }\n",
              "      }\n",
              "      const blob = new Blob(buffers, {type: 'application/binary'});\n",
              "      const a = document.createElement('a');\n",
              "      a.href = window.URL.createObjectURL(blob);\n",
              "      a.download = filename;\n",
              "      div.appendChild(a);\n",
              "      a.click();\n",
              "      div.remove();\n",
              "    }\n",
              "  "
            ]
          },
          "metadata": {}
        },
        {
          "output_type": "display_data",
          "data": {
            "text/plain": [
              "<IPython.core.display.Javascript object>"
            ],
            "application/javascript": [
              "download(\"download_e851b356-fb93-43d0-b192-c042ee8e9919\", \"meta.tsv\", 6267)"
            ]
          },
          "metadata": {}
        }
      ],
      "source": [
        "# Import files utilities in Colab\n",
        "try:\n",
        "  from google.colab import files\n",
        "except ImportError:\n",
        "  pass\n",
        "\n",
        "# Download the files\n",
        "else:\n",
        "  files.download('vecs.tsv')\n",
        "  files.download('meta.tsv')"
      ]
    },
    {
      "cell_type": "code",
      "source": [],
      "metadata": {
        "id": "OOz6GeDqBsRn"
      },
      "execution_count": null,
      "outputs": []
    }
  ]
}