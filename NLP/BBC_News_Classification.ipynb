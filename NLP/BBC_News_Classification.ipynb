{
  "nbformat": 4,
  "nbformat_minor": 0,
  "metadata": {
    "colab": {
      "provenance": []
    },
    "kernelspec": {
      "name": "python3",
      "display_name": "Python 3"
    },
    "language_info": {
      "name": "python"
    }
  },
  "cells": [
    {
      "cell_type": "code",
      "execution_count": 1,
      "metadata": {
        "id": "ZuA9CSYwFoG6"
      },
      "outputs": [],
      "source": [
        "import csv\n",
        "from tensorflow.keras.preprocessing.text import Tokenizer\n",
        "from tensorflow.keras.preprocessing.sequence import pad_sequences"
      ]
    },
    {
      "cell_type": "code",
      "source": [
        "\n",
        "import zipfile\n",
        "\n",
        "# Extract the archive\n",
        "local_zip = '/content/BBC News Train.csv.zip'\n",
        "zip_ref = zipfile.ZipFile(local_zip, 'r')\n",
        "zip_ref.extractall('bbc-train')\n",
        "zip_ref.close()\n",
        "\n",
        "local_zip = '/content/BBC News Test.csv.zip'\n",
        "zip_ref = zipfile.ZipFile(local_zip, 'r')\n",
        "zip_ref.extractall('bbc-test')\n",
        "zip_ref.close()"
      ],
      "metadata": {
        "id": "7uZ3GnebFsaR"
      },
      "execution_count": 2,
      "outputs": []
    },
    {
      "cell_type": "code",
      "source": [
        "with open('/content/bbc-train/BBC News Train.csv','r') as f:\n",
        "  print(f'This is the header\\n {f.readline()}')\n",
        "  print(f'This is the first data entry \\n {f.readline()}')"
      ],
      "metadata": {
        "colab": {
          "base_uri": "https://localhost:8080/"
        },
        "id": "mBDAQrQBGGiK",
        "outputId": "72cecf02-92b9-44f5-842b-dcda92c17b73"
      },
      "execution_count": 5,
      "outputs": [
        {
          "output_type": "stream",
          "name": "stdout",
          "text": [
            "This is the header\n",
            " ArticleId,Text,Category\n",
            "\n",
            "This is the first data entry \n",
            " 1833,worldcom ex-boss launches defence lawyers defending former worldcom chief bernie ebbers against a battery of fraud charges have called a company whistleblower as their first witness.  cynthia cooper  worldcom s ex-head of internal accounting  alerted directors to irregular accounting practices at the us telecoms giant in 2002. her warnings led to the collapse of the firm following the discovery of an $11bn (£5.7bn) accounting fraud. mr ebbers has pleaded not guilty to charges of fraud and conspiracy.  prosecution lawyers have argued that mr ebbers orchestrated a series of accounting tricks at worldcom  ordering employees to hide expenses and inflate revenues to meet wall street earnings estimates. but ms cooper  who now runs her own consulting business  told a jury in new york on wednesday that external auditors arthur andersen had approved worldcom s accounting in early 2001 and 2002. she said andersen had given a  green light  to the procedures and practices used by worldcom. mr ebber s lawyers have said he was unaware of the fraud  arguing that auditors did not alert him to any problems.  ms cooper also said that during shareholder meetings mr ebbers often passed over technical questions to the company s finance chief  giving only  brief  answers himself. the prosecution s star witness  former worldcom financial chief scott sullivan  has said that mr ebbers ordered accounting adjustments at the firm  telling him to  hit our books . however  ms cooper said mr sullivan had not mentioned  anything uncomfortable  about worldcom s accounting during a 2001 audit committee meeting. mr ebbers could face a jail sentence of 85 years if convicted of all the charges he is facing. worldcom emerged from bankruptcy protection in 2004  and is now known as mci. last week  mci agreed to a buyout by verizon communications in a deal valued at $6.75bn.,business\n",
            "\n"
          ]
        }
      ]
    },
    {
      "cell_type": "markdown",
      "source": [
        "#Removing Stopwords\n",
        "One important step when working with text data is to remove the stopwords from it. These are the most common words in the language and they rarely provide useful information for the classification process.\n",
        "\n",
        "Complete the remove_stopwords below. This function should receive a string and return another string that excludes all of the stopwords provided."
      ],
      "metadata": {
        "id": "P1cOlZGlTEQD"
      }
    },
    {
      "cell_type": "code",
      "source": [
        "# GRADED FUNCTION: remove_stopwords\n",
        "def remove_stopwords(sentence):\n",
        "    # List of stopwords\n",
        "    stopwords = [\"a\", \"about\", \"above\", \"after\", \"again\", \"against\", \"all\", \"am\", \n",
        "                 \"an\", \"and\", \"any\", \"are\", \"as\", \"at\", \"be\", \"because\", \"been\", \n",
        "                 \"before\", \"being\", \"below\", \"between\", \"both\", \"but\", \"by\", \"could\", \n",
        "                 \"did\", \"do\", \"does\", \"doing\", \"down\", \"during\", \"each\", \"few\", \"for\", \n",
        "                 \"from\", \"further\", \"had\", \"has\", \"have\", \"having\", \"he\", \"he'd\", \"he'll\", \n",
        "                 \"he's\", \"her\", \"here\", \"here's\", \"hers\", \"herself\", \"him\", \"himself\", \"his\", \n",
        "                 \"how\", \"how's\", \"i\", \"i'd\", \"i'll\", \"i'm\", \"i've\", \"if\", \"in\", \"into\", \"is\", \n",
        "                 \"it\", \"it's\", \"its\", \"itself\", \"let's\", \"me\", \"more\", \"most\", \"my\", \"myself\", \n",
        "                 \"nor\", \"of\", \"on\", \"once\", \"only\", \"or\", \"other\", \"ought\", \"our\", \"ours\", \"ourselves\", \n",
        "                 \"out\", \"over\", \"own\", \"same\", \"she\", \"she'd\", \"she'll\", \"she's\", \"should\", \"so\", \"some\",\n",
        "                 \"such\", \"than\", \"that\", \"that's\", \"the\", \"their\", \"theirs\", \"them\", \"themselves\", \"then\", \n",
        "                 \"there\", \"there's\", \"these\", \"they\", \"they'd\", \"they'll\", \"they're\", \"they've\", \"this\", \n",
        "                 \"those\", \"through\", \"to\", \"too\", \"under\", \"until\", \"up\", \"very\", \"was\", \"we\", \"we'd\",\n",
        "                 \"we'll\", \"we're\", \"we've\", \"were\", \"what\", \"what's\", \"when\", \"when's\", \"where\", \"where's\",\n",
        "                 \"which\", \"while\", \"who\", \"who's\", \"whom\", \"why\", \"why's\", \"with\", \"would\", \"you\", \"you'd\", \n",
        "                 \"you'll\", \"you're\", \"you've\", \"your\", \"yours\", \"yourself\", \"yourselves\" ]\n",
        "    \n",
        "    # Sentence converted to lowercase-only\n",
        "    sentence = sentence.lower()\n",
        "    \n",
        "    ### START CODE HERE\n",
        "    words_list=sentence.split(' ')\n",
        "    new_words_list=[val for val in words_list if val not in stopwords]\n",
        "    sentence=' '.join(new_words_list)\n",
        "    ### END CODE HERE\n",
        "    return sentence"
      ],
      "metadata": {
        "id": "8B-wlOLvGiYa"
      },
      "execution_count": 18,
      "outputs": []
    },
    {
      "cell_type": "code",
      "source": [
        "# Test your function\n",
        "remove_stopwords(\"I am about to go to the store and get any snack\")"
      ],
      "metadata": {
        "colab": {
          "base_uri": "https://localhost:8080/",
          "height": 35
        },
        "id": "cPs-PL7MIDoL",
        "outputId": "1982ce49-7742-489a-94b2-2edd27ff4a06"
      },
      "execution_count": 19,
      "outputs": [
        {
          "output_type": "execute_result",
          "data": {
            "text/plain": [
              "'go store get snack'"
            ],
            "application/vnd.google.colaboratory.intrinsic+json": {
              "type": "string"
            }
          },
          "metadata": {},
          "execution_count": 19
        }
      ]
    },
    {
      "cell_type": "markdown",
      "source": [
        "#Reading the raw data\n",
        "Now you need to read the data from the csv file. To do so, complete the parse_data_from_file function.\n",
        "\n",
        "A couple of things to note:\n",
        "\n",
        "You should omit the first line as it contains the headers \n",
        "and not data points.\n",
        "\n",
        "\n",
        "There is no need to save the data points as numpy arrays, regular lists is fine.\n",
        "\n",
        "To read from csv files use csv.reader by passing the appropriate arguments.\n",
        "\n",
        "csv.reader returns an iterable that returns each row in every iteration. So the label can be accessed via row[0] and the text via row[1].\n",
        "\n",
        "Use the remove_stopwords function in each sentence.\n",
        "\n",
        "\n",
        "\n"
      ],
      "metadata": {
        "id": "z1OLojCUMiRi"
      }
    },
    {
      "cell_type": "code",
      "source": [
        "def parse_data_from_file(filename):\n",
        "    sentences = []\n",
        "    labels = []\n",
        "    with open(filename, 'r') as csvfile:\n",
        "        ### START CODE HERE\n",
        "        next(csvfile)\n",
        "        sentences=[]\n",
        "        labels=[]\n",
        "\n",
        "        csv_reader=csv.reader(csvfile,delimiter=',')\n",
        "        for row in csv_reader:\n",
        "          sentence=' '.join(row[1:-1])\n",
        "          sentences.append(sentence)\n",
        "          labels.append(row[-1])\n",
        "        ### END CODE HERE\n",
        "    return sentences, labels"
      ],
      "metadata": {
        "id": "ma1Hrm08ITMt"
      },
      "execution_count": 22,
      "outputs": []
    },
    {
      "cell_type": "code",
      "source": [
        "# Test your function\n",
        "sentences, labels = parse_data_from_file(\"/content/bbc-train/BBC News Train.csv\")\n",
        "val_sentences,val_labels=parse_data_from_file(\"/content/bbc-test/BBC News Test.csv\")\n",
        "\n",
        "print(f\"There are {len(sentences)} sentences in the train dataset.\\n\")\n",
        "print(f\"There are {len(val_sentences)} sentences in the test dataset.\\n\")\n",
        "print(f\"First sentence of training has {len(sentences[0].split())} words (after removing stopwords).\\n\")\n",
        "print(f\"First sentence: {sentences[0]} \\n \")\n",
        "print(f\"There are {len(labels)} labels in the train dataset.\\n\")\n",
        "print(f\"There are {len(val_labels)} labels in the test dataset.\\n\")\n",
        "print(f\"The first 5 train labels are {labels[:5]}\")"
      ],
      "metadata": {
        "colab": {
          "base_uri": "https://localhost:8080/"
        },
        "id": "4F3KtWG7OYeM",
        "outputId": "8314ee17-3bd9-4cdb-ef87-2f79df31ce9f"
      },
      "execution_count": 26,
      "outputs": [
        {
          "output_type": "stream",
          "name": "stdout",
          "text": [
            "There are 1490 sentences in the train dataset.\n",
            "\n",
            "There are 735 sentences in the test dataset.\n",
            "\n",
            "First sentence of training has 301 words (after removing stopwords).\n",
            "\n",
            "First sentence: worldcom ex-boss launches defence lawyers defending former worldcom chief bernie ebbers against a battery of fraud charges have called a company whistleblower as their first witness.  cynthia cooper  worldcom s ex-head of internal accounting  alerted directors to irregular accounting practices at the us telecoms giant in 2002. her warnings led to the collapse of the firm following the discovery of an $11bn (£5.7bn) accounting fraud. mr ebbers has pleaded not guilty to charges of fraud and conspiracy.  prosecution lawyers have argued that mr ebbers orchestrated a series of accounting tricks at worldcom  ordering employees to hide expenses and inflate revenues to meet wall street earnings estimates. but ms cooper  who now runs her own consulting business  told a jury in new york on wednesday that external auditors arthur andersen had approved worldcom s accounting in early 2001 and 2002. she said andersen had given a  green light  to the procedures and practices used by worldcom. mr ebber s lawyers have said he was unaware of the fraud  arguing that auditors did not alert him to any problems.  ms cooper also said that during shareholder meetings mr ebbers often passed over technical questions to the company s finance chief  giving only  brief  answers himself. the prosecution s star witness  former worldcom financial chief scott sullivan  has said that mr ebbers ordered accounting adjustments at the firm  telling him to  hit our books . however  ms cooper said mr sullivan had not mentioned  anything uncomfortable  about worldcom s accounting during a 2001 audit committee meeting. mr ebbers could face a jail sentence of 85 years if convicted of all the charges he is facing. worldcom emerged from bankruptcy protection in 2004  and is now known as mci. last week  mci agreed to a buyout by verizon communications in a deal valued at $6.75bn. \n",
            " \n",
            "There are 1490 labels in the train dataset.\n",
            "\n",
            "There are 735 labels in the test dataset.\n",
            "\n",
            "The first 5 train labels are ['business', 'business', 'business', 'tech', 'business']\n"
          ]
        }
      ]
    },
    {
      "cell_type": "markdown",
      "source": [
        "#Using the Tokenizer\n",
        "Now it is time to tokenize the sentences of the dataset.\n",
        "\n",
        "Complete the fit_tokenizer below.\n",
        "\n",
        "This function should receive the list of sentences as input and return a Tokenizer that has been fitted to those sentences. You should also define the \"Out of Vocabulary\" token as <OOV>."
      ],
      "metadata": {
        "id": "5K6Z3ZTePzVW"
      }
    },
    {
      "cell_type": "code",
      "source": [
        "def fit_tokenizer(sentences):\n",
        "    ### START CODE HERE\n",
        "    # Instantiate the Tokenizer class by passing in the oov_token argument\n",
        "    tokenizer=Tokenizer(oov_token=\"<OOV>\")\n",
        "    # Fit on the sentences\n",
        "    tokenizer.fit_on_texts(sentences)\n",
        "    ### END CODE HERE\n",
        "    return tokenizer"
      ],
      "metadata": {
        "id": "W0yKqxWqOe0b"
      },
      "execution_count": 27,
      "outputs": []
    },
    {
      "cell_type": "code",
      "source": [
        "tokenizer=fit_tokenizer(sentences)\n",
        "word_index=tokenizer.word_index\n",
        "\n",
        "print(f\"Vocabulary contains {len(word_index)} words\\n\")\n",
        "print(\"<OOV> token included in vocabulary\" if \"<OOV>\" in word_index else \"<OOV> token NOT included in vocabulary\")"
      ],
      "metadata": {
        "colab": {
          "base_uri": "https://localhost:8080/"
        },
        "id": "-uZgRbodQQav",
        "outputId": "42f85fef-497f-40fd-8a2f-91d9b05c6112"
      },
      "execution_count": 28,
      "outputs": [
        {
          "output_type": "stream",
          "name": "stdout",
          "text": [
            "Vocabulary contains 24984 words\n",
            "\n",
            "<OOV> token included in vocabulary\n"
          ]
        }
      ]
    },
    {
      "cell_type": "code",
      "source": [
        "def get_padded_sequences(tokenizer, sentences):\n",
        "    \n",
        "    ### START CODE HERE\n",
        "    # Convert sentences to sequences\n",
        "    sequences=tokenizer.texts_to_sequences(sentences)\n",
        "    \n",
        "    # Pad the sequences using the post padding strategy\n",
        "    padded_sequences=pad_sequences(sequences,padding=\"post\")\n",
        "    ### END CODE HERE\n",
        "    \n",
        "    return padded_sequences"
      ],
      "metadata": {
        "id": "z3p83S3pQiAY"
      },
      "execution_count": 30,
      "outputs": []
    },
    {
      "cell_type": "code",
      "source": [
        "padded_sequences = get_padded_sequences(tokenizer, sentences)\n",
        "print(f\"First padded sequence looks like this: \\n\\n{padded_sequences[0]}\\n\")\n",
        "print(f\"Numpy array of all sequences has shape: {padded_sequences.shape}\\n\")\n",
        "print(f\"This means there are {padded_sequences.shape[0]} sequences in total and each one has a size of {padded_sequences.shape[1]}.\")"
      ],
      "metadata": {
        "colab": {
          "base_uri": "https://localhost:8080/"
        },
        "id": "Z-LYKz_0Q0Ki",
        "outputId": "b89e8c9e-b7c3-41a7-e49e-be18962eb2e6"
      },
      "execution_count": 33,
      "outputs": [
        {
          "output_type": "stream",
          "name": "stdout",
          "text": [
            "First padded sequence looks like this: \n",
            "\n",
            "[1418 1275  693 ...    0    0    0]\n",
            "\n",
            "Numpy array of all sequences has shape: (1490, 3356)\n",
            "\n",
            "This means there are 1490 sequences in total and each one has a size of 3356.\n"
          ]
        }
      ]
    },
    {
      "cell_type": "code",
      "source": [
        "def tokenize_labels(labels):\n",
        "    ### START CODE HERE\n",
        "    \n",
        "    # Instantiate the Tokenizer class\n",
        "    # No need to pass additional arguments since you will be tokenizing the labels\n",
        "    tokenizer=Tokenizer()\n",
        "    \n",
        "    # Fit the tokenizer to the labels\n",
        "    tokenizer.fit_on_texts(labels)\n",
        "    \n",
        "    # Save the word index\n",
        "    label_word_index=tokenizer.word_index\n",
        "    # Save the sequences\n",
        "    label_sequences=tokenizer.texts_to_sequences(labels)\n",
        "\n",
        "    ### END CODE HERE\n",
        "    \n",
        "    return label_sequences, label_word_index"
      ],
      "metadata": {
        "id": "jSPisOVRRe1r"
      },
      "execution_count": 36,
      "outputs": []
    },
    {
      "cell_type": "code",
      "source": [
        "label_sequences, label_word_index = tokenize_labels(labels)\n",
        "print(f\"Vocabulary of labels looks like this {label_word_index}\\n\")\n",
        "print(f\"First ten sequences {label_sequences[:10]}\\n\")"
      ],
      "metadata": {
        "colab": {
          "base_uri": "https://localhost:8080/"
        },
        "id": "4NBVFIqhSQUE",
        "outputId": "b4ef0891-d1a7-4d05-e710-1dfc6ab0e804"
      },
      "execution_count": 37,
      "outputs": [
        {
          "output_type": "stream",
          "name": "stdout",
          "text": [
            "Vocabulary of labels looks like this {'sport': 1, 'business': 2, 'politics': 3, 'entertainment': 4, 'tech': 5}\n",
            "\n",
            "First ten sequences [[2], [2], [2], [5], [2], [3], [1], [4], [2], [4]]\n",
            "\n"
          ]
        }
      ]
    },
    {
      "cell_type": "code",
      "source": [],
      "metadata": {
        "id": "QMuYRAD8STOw"
      },
      "execution_count": null,
      "outputs": []
    }
  ]
}